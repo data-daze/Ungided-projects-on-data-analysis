{
 "cells": [
  {
   "cell_type": "code",
   "execution_count": null,
   "metadata": {
    "id": "GIi74whbUMN9"
   },
   "outputs": [],
   "source": [
    "import pandas as pd\n",
    "import numpy as np\n",
    "import seaborn as sns\n",
    "import matplotlib.pyplot as plt\n"
   ]
  },
  {
   "cell_type": "code",
   "execution_count": null,
   "metadata": {
    "id": "O8ioXS-7eDnw"
   },
   "outputs": [],
   "source": [
    "from google.colab import drive\n",
    "drive.mount('/content/drive')\n"
   ]
  },
  {
   "cell_type": "code",
   "execution_count": null,
   "metadata": {
    "id": "ooq6o_F3edlh"
   },
   "outputs": [],
   "source": [
    "!ls '/content/drive/My Drive/Data Analysis'\n"
   ]
  },
  {
   "cell_type": "code",
   "execution_count": null,
   "metadata": {
    "id": "NaqZKI1LVJZ6"
   },
   "outputs": [],
   "source": [
    "import pandas as pd\n",
    "\n",
    "df = pd.read_excel('/content/drive/MyDrive/Data Analysis/Data sets/Superstore.xls')\n",
    "df.head(4)"
   ]
  },
  {
   "cell_type": "code",
   "execution_count": null,
   "metadata": {
    "id": "htr_1_JfeCy0"
   },
   "outputs": [],
   "source": [
    "df.columns"
   ]
  },
  {
   "cell_type": "code",
   "execution_count": null,
   "metadata": {
    "id": "teArFSWdhIXM"
   },
   "outputs": [],
   "source": [
    "df.columns = df.columns.str.strip()  \n",
    "df.dropna(inplace=True)"
   ]
  },
  {
   "cell_type": "code",
   "execution_count": null,
   "metadata": {
    "id": "3mNS8eaVhQTk"
   },
   "outputs": [],
   "source": [
    "df.isnull().sum().sum()"
   ]
  },
  {
   "cell_type": "code",
   "execution_count": null,
   "metadata": {
    "id": "734xfwZrh7Om"
   },
   "outputs": [],
   "source": [
    "df.duplicated().sum()"
   ]
  },
  {
   "cell_type": "code",
   "execution_count": null,
   "metadata": {
    "id": "EZAiPXnTigrl"
   },
   "outputs": [],
   "source": [
    "df.info()"
   ]
  },
  {
   "cell_type": "code",
   "execution_count": null,
   "metadata": {
    "id": "2KJGGEaGo13X"
   },
   "outputs": [],
   "source": [
    "df.reset_index(drop=True, inplace=True)\n"
   ]
  },
  {
   "cell_type": "code",
   "execution_count": null,
   "metadata": {
    "id": "VLzpRkw3o3-S"
   },
   "outputs": [],
   "source": [
    "df[\"Outlier\"] = (df['Sales'] >= 0) & (df['Quantity'] > 0) & (df['Discount'] >= 0) & (df['Profit'] >= 0) \n",
    "df[\"Outlier\"].head(2)"
   ]
  },
  {
   "cell_type": "code",
   "execution_count": null,
   "metadata": {
    "id": "A8TCxFFsx1i2"
   },
   "outputs": [],
   "source": [
    "df['Invalid Data'] = df['Discount'] <= 1 \n",
    "df['Invalid Data'].head(2)"
   ]
  },
  {
   "cell_type": "code",
   "execution_count": null,
   "metadata": {
    "id": "PzbK-Ps2jEvX"
   },
   "outputs": [],
   "source": [
    "df['Postal Code'] = df['Postal Code'].astype('Int64').astype(str)\n",
    "df['Postal Code'].dtypes\n"
   ]
  },
  {
   "cell_type": "code",
   "execution_count": null,
   "metadata": {
    "id": "_a2yLNRakmEB"
   },
   "outputs": [],
   "source": [
    "df['Order Date'] = pd.to_datetime(df['Order Date'], format='%d/%m/%Y',errors='coerce')\n",
    "df['Ship Date'] = pd.to_datetime(df['Ship Date'], format='%d/%m/%Y',errors='coerce')\n",
    "df.info()\n"
   ]
  },
  {
   "cell_type": "code",
   "execution_count": null,
   "metadata": {
    "id": "jgUzKHwllKZ0"
   },
   "outputs": [],
   "source": [
    "df['Year'] = df['Order Date'].dt.year \n",
    "df['Month'] = df['Order Date'].dt.month \n",
    "df['Month Name'] = df['Order Date'].dt.strftime('%B')\n",
    "df['Weekday'] = df['Order Date'].dt.day_name() "
   ]
  },
  {
   "cell_type": "code",
   "execution_count": null,
   "metadata": {
    "id": "oZa5xuhOlzrZ"
   },
   "outputs": [],
   "source": [
    "df['Year'].head(2)"
   ]
  },
  {
   "cell_type": "code",
   "execution_count": null,
   "metadata": {
    "id": "VQbTyPepl4s6"
   },
   "outputs": [],
   "source": [
    "df['Month'].head(2)"
   ]
  },
  {
   "cell_type": "code",
   "execution_count": null,
   "metadata": {
    "id": "r2MXzWtgmEfi"
   },
   "outputs": [],
   "source": [
    "df['Month Name'].head(2)"
   ]
  },
  {
   "cell_type": "code",
   "execution_count": null,
   "metadata": {
    "id": "cTjVEkjlmKJc"
   },
   "outputs": [],
   "source": [
    "df['Weekday'].head(2)"
   ]
  },
  {
   "cell_type": "code",
   "execution_count": null,
   "metadata": {
    "id": "cfGTtcS_qZC_"
   },
   "outputs": [],
   "source": [
    "df['Profit_Margin'] = df['Profit'] / df['Sales']\n",
    "df['Profit_Margin'] = df['Profit_Margin'].fillna(0) \n",
    "df['Profit_Margin'].head(2)"
   ]
  },
  {
   "cell_type": "code",
   "execution_count": null,
   "metadata": {
    "id": "VFVysUP9rBPy"
   },
   "outputs": [],
   "source": [
    "df['Profit_Margin_Percent'] = df['Profit_Margin'] * 100\n",
    "df['Profit_Margin_Percent'].round(2) .head(2)"
   ]
  },
  {
   "cell_type": "code",
   "execution_count": null,
   "metadata": {
    "id": "whtNLEJbrefj"
   },
   "outputs": [],
   "source": [
    "df['Revenue_After_Discount'] = df['Sales'] * (1 - df['Discount'])\n",
    "df['Revenue_After_Discount'].head(2)"
   ]
  },
  {
   "cell_type": "code",
   "execution_count": null,
   "metadata": {
    "id": "mG4AOjl5wsSz"
   },
   "outputs": [],
   "source": [
    "print(df['Ship Mode'].unique())\n",
    "print(df['Segment'].unique())\n",
    "print(df['Region'].unique())\n",
    "print(df['Category'].unique())\n",
    "print(df['Sub-Category'].unique())\n"
   ]
  },
  {
   "cell_type": "code",
   "execution_count": null,
   "metadata": {
    "id": "zthKh4crtD6r"
   },
   "outputs": [],
   "source": [
    "df.describe()"
   ]
  },
  {
   "cell_type": "code",
   "execution_count": null,
   "metadata": {
    "id": "cQkWcbT4Wu1y"
   },
   "outputs": [],
   "source": [
    "df.describe().columns"
   ]
  },
  {
   "cell_type": "code",
   "execution_count": null,
   "metadata": {
    "id": "UDaWbHdozf-n"
   },
   "outputs": [],
   "source": [
    "df.describe().to_csv('describe_output.csv')"
   ]
  },
  {
   "cell_type": "code",
   "execution_count": null,
   "metadata": {
    "id": "L57jX_aUtQBp"
   },
   "outputs": [],
   "source": [
    "numeric_df = df.select_dtypes(include=np.number)\n",
    "corr = numeric_df.corr()\n",
    "corr"
   ]
  },
  {
   "cell_type": "code",
   "execution_count": null,
   "metadata": {
    "id": "aaB_nRP0zyxc"
   },
   "outputs": [],
   "source": [
    "plt.figure(figsize=(10, 8))\n",
    "heatmap = sns.heatmap(numeric_df.corr(), annot=True, fmt=\".2f\", cmap='coolwarm')\n",
    "plt.title('Correlation Matrix')\n",
    "\n",
    "plt.savefig('correlation_heatmap.png', dpi=300, bbox_inches='tight')\n",
    "plt.show()"
   ]
  },
  {
   "cell_type": "markdown",
   "metadata": {
    "id": "6jztD_5hYJac"
   },
   "source": [
    "**Which products generate the most revenue, and which are underperforming?**"
   ]
  },
  {
   "cell_type": "code",
   "execution_count": null,
   "metadata": {
    "id": "1n8_gAZFYLmc"
   },
   "outputs": [],
   "source": [
    "top_products = df.groupby('Product Name')['Sales'].sum().sort_values(ascending=False).head(10)\n",
    "bottom_products = df.groupby('Product Name')['Sales'].sum().sort_values().head(10)\n",
    "\n"
   ]
  },
  {
   "cell_type": "code",
   "execution_count": null,
   "metadata": {
    "id": "v5Go-8ONaS90"
   },
   "outputs": [],
   "source": [
    "top_products.head(10)"
   ]
  },
  {
   "cell_type": "code",
   "execution_count": null,
   "metadata": {
    "id": "NLN-I3lPam7Q"
   },
   "outputs": [],
   "source": [
    "bottom_products.tail(10)"
   ]
  },
  {
   "cell_type": "code",
   "execution_count": null,
   "metadata": {
    "id": "NLHytxjdc7YA"
   },
   "outputs": [],
   "source": [
    "#Top 10 Products by Revenue\n",
    "top10 = top_products.head(10)\n",
    "\n",
    "plt.figure(figsize=(12,6))\n",
    "ax = sns.barplot(x=top10.values, y=top10.index, palette='pastel')\n",
    "ax.xaxis.grid(True, linestyle='--', alpha=0.7)\n",
    "ax.set_axisbelow(True)\n",
    "\n",
    "\n",
    "for i, value in enumerate(top10.values):\n",
    "    plt.text(value + 50, i, f\"${value:,.0f}\", va='center', fontsize=10)\n",
    "\n",
    "plt.title(\"Top 10 Products by Revenue\")\n",
    "plt.xlabel(\"Total Revenue\")\n",
    "plt.ylabel(\"Product Name\")\n",
    "plt.tight_layout(pad=3.0)\n",
    "plt.show()"
   ]
  },
  {
   "cell_type": "markdown",
   "metadata": {
    "id": "B9NJLJmnorXj"
   },
   "source": [
    "**The Canon imageCLASS 2200 Advanced Copier** generates the most revenue by far, earning over $60,000, making it the top-performing product.\n",
    "\n",
    "Other high-revenue products include:\n",
    "\n",
    "**Fellowes PB500 Electric Punch Binding Machine**\n",
    "\n",
    "**Cisco TelePresence System**\n",
    "\n",
    "**HON 5400 Series Task Chairs**\n",
    "\n",
    "These all have strong sales in the **$20k–$30k range.**"
   ]
  },
  {
   "cell_type": "markdown",
   "metadata": {
    "id": "u2DVu2fopiFo"
   },
   "source": [
    "On the other hand, products like:\n",
    "\n",
    "**High Speed Automatic Electric Letter Opener**\n",
    "\n",
    "**GBC DocuBind P400 Electric Binding System**\n",
    "\n",
    "are among the lowest in revenue within the top 10 list, each generating under **$20,000**, indicating they are underperforming compared to others."
   ]
  },
  {
   "cell_type": "code",
   "execution_count": null,
   "metadata": {
    "id": "XqBVsU6ZgZoK"
   },
   "outputs": [],
   "source": [
    "plt.figure(figsize=(14,8))\n",
    "ax = sns.barplot(x=bottom_products.values, y=bottom_products.index, palette='pastel')\n",
    "\n",
    "ax.xaxis.grid(True, linestyle='--', alpha=0.7)\n",
    "ax.set_axisbelow(True)\n",
    "\n",
    "for i, value in enumerate(bottom_products.values):\n",
    "    plt.text(value, i + 0.1, f\"${value:,.0f}\", ha='center', fontsize=10)\n",
    "\n",
    "\n",
    "plt.title(\"Bottom 10 Products by Revenue (Underperforming)\")\n",
    "plt.xlabel(\"Total Revenue\")\n",
    "plt.ylabel(\"Product Name\")\n",
    "plt.tight_layout(pad=3.0)\n",
    "plt.show()"
   ]
  },
  {
   "cell_type": "markdown",
   "metadata": {
    "id": "gxgJ4utmsIo3"
   },
   "source": [
    "**The Newell 308** generates **the least revenue**, with sales just over 8 units, making it the lowest-performing product in terms of revenue.\n",
    "\n",
    "Other low-revenue products include:\n",
    "\n",
    "**Stockwell Gold Paper Clips**\n",
    "\n",
    "**4009 Highlighters**\n",
    "\n",
    "**Xerox 1989**\n",
    "\n",
    "These all have weak sales in the **7–8 range**."
   ]
  },
  {
   "cell_type": "markdown",
   "metadata": {
    "id": "hACXxwC9swJZ"
   },
   "source": [
    "On the other hand, products like:\n",
    "\n",
    "**Avery 5**\n",
    "\n",
    "Eureka Disposable Bags for Sanitaire Vibra Groomer I Upright Vac\n",
    "\n",
    "are among the **lowest in revenue** within the bottom 10 list, each generating **under 6 sales**, indicating they are **severely underperforming** compared to others."
   ]
  },
  {
   "cell_type": "code",
   "execution_count": null,
   "metadata": {
    "id": "5GIrUHQqh7OE"
   },
   "outputs": [],
   "source": [
    "!pip install dash dash-daq pandas plotly\n"
   ]
  },
  {
   "cell_type": "markdown",
   "metadata": {
    "id": "cSHk5u09mE6u"
   },
   "source": [
    "**Plotyly Dashboard**"
   ]
  },
  {
   "cell_type": "code",
   "execution_count": null,
   "metadata": {
    "id": "6BOEl4UQlk1z"
   },
   "outputs": [],
   "source": [
    "import plotly.express as px\n",
    "import dash\n",
    "from dash import dcc, html\n",
    "import dash_daq as daq\n",
    "\n",
    "\n",
    "product_sales = df.groupby('Product Name', as_index=False)['Sales'].sum()\n",
    "top10 = product_sales.sort_values('Sales', ascending=False).head(10)\n",
    "bottom10 = product_sales.sort_values('Sales', ascending=True).head(10)\n",
    "\n",
    "total_revenue = df['Sales'].sum()\n",
    "total_products = df['Product Name'].nunique()\n",
    "avg_revenue = total_revenue / total_products\n",
    "\n",
    "\n",
    "app = dash.Dash(__name__)\n",
    "app.title = 'Product Revenue Dashboard'\n",
    "\n",
    "\n",
    "app.layout = html.Div(style={'backgroundColor': '#F9F9F9', 'color': '#222222', 'padding': '20px'}, children=[\n",
    "    html.H1('Product Revenue Dashboard', style={'textAlign': 'center', 'color': '#333333'}),\n",
    "\n",
    "    \n",
    "    html.Div([\n",
    "        html.H2('Key Metrics', style={'textAlign': 'center', 'color': '#444444'}),\n",
    "        html.Div([\n",
    "            daq.LEDDisplay(\n",
    "                label=\"Total Revenue ($)\",\n",
    "                value=f\"{int(total_revenue):,}\",\n",
    "                size=40,\n",
    "                color=\"#00796B\",\n",
    "                backgroundColor=\"#e8eaf6\",\n",
    "                style={'margin': '0 20px'}\n",
    "            ),\n",
    "            daq.LEDDisplay(\n",
    "                label=\"Total Unique Products\",\n",
    "                value=str(total_products),\n",
    "                size=40,\n",
    "                color=\"#F57C00\",\n",
    "                backgroundColor=\"#e8eaf6\",\n",
    "                style={'margin': '0 20px'}\n",
    "            ),\n",
    "            daq.LEDDisplay(\n",
    "                label=\"Avg Revenue/Product ($)\",\n",
    "                value=f\"{int(avg_revenue):,}\",\n",
    "                size=40,\n",
    "                color=\"#0288D1\",\n",
    "                backgroundColor=\"#e8eaf6\",\n",
    "                style={'margin': '0 20px'}\n",
    "            ),\n",
    "        ], style={'display': 'flex', 'justifyContent': 'space-around', 'padding': '20px'})\n",
    "    ]),\n",
    "\n",
    "    # Top 10 Products Graph\n",
    "    html.Div([\n",
    "        html.H2('Top 10 Products by Revenue', style={'color': '#333333'}),\n",
    "        dcc.Graph(\n",
    "            figure=px.bar(top10, x='Sales', y='Product Name',\n",
    "                          orientation='h', color='Sales',\n",
    "                          color_continuous_scale='Viridis',\n",
    "                          title='Top 10 Products by Revenue')\n",
    "            .update_layout(\n",
    "                paper_bgcolor='#F9F9F9',\n",
    "                plot_bgcolor='#F9F9F9',\n",
    "                font_color='#222222',\n",
    "                xaxis=dict(\n",
    "                    showgrid=True,\n",
    "                    gridcolor='rgba(0,0,0,0.1)',\n",
    "                    zeroline=False\n",
    "                ),\n",
    "                yaxis=dict(\n",
    "                    showgrid=False\n",
    "                ),\n",
    "                margin=dict(l=150, r=40, t=60, b=40),\n",
    "                yaxis_autorange='reversed' \n",
    "            )\n",
    "        )\n",
    "    ]),\n",
    "\n",
    "    # Bottom 10 Products Graph\n",
    "    html.Div([\n",
    "        html.H2('Bottom 10 Underperforming Products', style={'color': '#333333'}),\n",
    "        dcc.Graph(\n",
    "            figure=px.bar(bottom10, x='Sales', y='Product Name',\n",
    "                          orientation='h', color='Sales',\n",
    "                          color_continuous_scale='Reds',\n",
    "                          title='Bottom 10 Products by Revenue')\n",
    "            .update_layout(\n",
    "                paper_bgcolor='#F9F9F9',\n",
    "                plot_bgcolor='#F9F9F9',\n",
    "                font_color='#222222',\n",
    "                xaxis=dict(\n",
    "                    showgrid=True,\n",
    "                    gridcolor='rgba(0,0,0,0.1)',\n",
    "                    zeroline=False\n",
    "                ),\n",
    "                yaxis=dict(\n",
    "                    showgrid=False\n",
    "                ),\n",
    "                margin=dict(l=150, r=40, t=60, b=40),\n",
    "                yaxis_autorange='reversed'\n",
    "            )\n",
    "        )\n",
    "    ])\n",
    "])\n",
    "\n",
    "if __name__ == '__main__':\n",
    "    app.run(debug=True)\n"
   ]
  },
  {
   "cell_type": "markdown",
   "metadata": {
    "id": "8PjSn2kFYM0Y"
   },
   "source": [
    "**Are certain regions or states more profitable than others?**"
   ]
  },
  {
   "cell_type": "code",
   "execution_count": null,
   "metadata": {
    "id": "U_7AszEyYUDG"
   },
   "outputs": [],
   "source": [
    "profit_by_state = df.groupby('State')['Profit'].sum().sort_values(ascending=False)\n",
    "profit_by_region = df.groupby('Region')['Profit'].sum().sort_values(ascending=False)\n"
   ]
  },
  {
   "cell_type": "code",
   "execution_count": null,
   "metadata": {
    "id": "j24JkPGgtbhI"
   },
   "outputs": [],
   "source": [
    "profit_by_state.head(5)"
   ]
  },
  {
   "cell_type": "code",
   "execution_count": null,
   "metadata": {
    "id": "hnmZiHa0th9v"
   },
   "outputs": [],
   "source": [
    "profit_by_region.head(5)"
   ]
  },
  {
   "cell_type": "code",
   "execution_count": null,
   "metadata": {
    "id": "4vxsRsFzvAds"
   },
   "outputs": [],
   "source": [
    "plt.figure(figsize=(8, 6))\n",
    "ax = sns.barplot(x=profit_by_region.values, y=profit_by_region.index, palette='pastel')\n",
    "plt.title('Total Profit by Region')\n",
    "plt.xlabel('Profit')\n",
    "plt.ylabel('Region')\n",
    "plt.grid(axis='x', linestyle='--', alpha=0.5)\n",
    "\n",
    "\n",
    "for i, v in enumerate(profit_by_region.values):\n",
    "    ax.text(v, i, f\"${v:,.2f}\", va='center', ha='left', fontweight='bold', fontsize=10)\n",
    "\n",
    "plt.tight_layout()\n",
    "plt.show()"
   ]
  },
  {
   "cell_type": "code",
   "execution_count": null,
   "metadata": {
    "id": "iPKUVsx6vW_O"
   },
   "outputs": [],
   "source": [
    "#Top 10 Most Profitable States\n",
    "top10_states = profit_by_state.head(10)\n",
    "plt.figure(figsize=(10, 6))\n",
    "ax = sns.barplot(x=top10_states.values, y=top10_states.index, palette='pastel')\n",
    "plt.title('Top 10 Most Profitable States')\n",
    "plt.xlabel('Profit')\n",
    "plt.ylabel('State')\n",
    "plt.grid(axis='x', linestyle='--', alpha=0.5)\n",
    "\n",
    "for i, v in enumerate(top10_states.values):\n",
    "    ax.text(v, i, f\"${v:,.2f}\", va='center', ha='left', fontweight='bold', fontsize=10)\n",
    "\n",
    "plt.tight_layout()\n",
    "plt.show()"
   ]
  },
  {
   "cell_type": "markdown",
   "metadata": {
    "id": "Du165QBwywlZ"
   },
   "source": [
    "**California** generates the most profit by far, earning **over $75,000**, making it the top-performing state in terms of profitability.\n",
    "\n",
    "Other high-profit states include:\n",
    "\n",
    "**New York**\n",
    "\n",
    "**Washington**\n",
    "\n",
    "Michigan **bold text**\n",
    "\n",
    "These all have strong profits in the **$20k–$70k** range.\n",
    "\n",
    "On the other hand, states like:\n",
    "\n",
    "**Oregon**\n",
    "\n",
    "Florida\n",
    "\n",
    "are among the least profitable regions, each generating losses of over **-$5,000**, indicating they are underperforming compared to others"
   ]
  },
  {
   "cell_type": "code",
   "execution_count": null,
   "metadata": {
    "id": "oLRcS01Lxd6N"
   },
   "outputs": [],
   "source": [
    "# Bottom 10 Least Profitable States\n",
    "bottom10_states = profit_by_state.tail(10)\n",
    "\n",
    "plt.figure(figsize=(10, 6))\n",
    "ax = sns.barplot(x=bottom10_states.values, y=bottom10_states.index, palette='pastel') \n",
    "plt.title('Bottom 10 Least Profitable States')\n",
    "plt.xlabel('Profit')\n",
    "plt.ylabel('State')\n",
    "plt.grid(axis='x', linestyle='--', alpha=0.5)\n",
    "\n",
    "\n",
    "for i, v in enumerate(bottom10_states.values): \n",
    "    ax.text(v, i, f\"${v:,.2f}\", va='center', ha='left', fontweight='bold', fontsize=10)\n",
    "\n",
    "\n",
    "plt.tight_layout()\n",
    "plt.show()"
   ]
  },
  {
   "cell_type": "markdown",
   "metadata": {
    "id": "cM3s7uXIz8IP"
   },
   "source": [
    "**Texas** generates the largest losses by far, losing over **$25,000**, making it the least profitable state overall.\n",
    "\n",
    "Other low-profit states include:\n",
    "\n",
    "**Ohio**\n",
    "\n",
    "**Pennsylvania**\n",
    "\n",
    "**Illinois**\n",
    "\n",
    "These all have significant losses in the **$15k–$20k** range.\n",
    "\n",
    "On the other hand, states like:\n",
    "\n",
    "**Oregon**\n",
    "\n",
    "**Florida**\n",
    "\n",
    "are among the least profitable within the bottom 10 list, each generating losses under **$5,000**, indicating they are slightly better performing compared to others in this group."
   ]
  },
  {
   "cell_type": "code",
   "execution_count": null,
   "metadata": {
    "id": "0nHcBdanw97g"
   },
   "outputs": [],
   "source": [
    "#Data Aggregation \n",
    "profit_by_state = df.groupby('State', as_index=False)['Profit'].sum().sort_values('Profit', ascending=False)\n",
    "\n",
    "top10_states = profit_by_state.head(10)\n",
    "bottom10_states = profit_by_state.tail(10)\n",
    "\n",
    "total_profit = df['Profit'].sum()\n",
    "total_states = df['State'].nunique()\n",
    "avg_profit_per_state = total_profit / total_states\n",
    "\n",
    "\n",
    "app = dash.Dash(__name__)\n",
    "app.title = 'State Profitability Dashboard'\n",
    "\n",
    "app.layout = html.Div(style={'backgroundColor': '#F9F9F9', 'color': '#222222', 'padding': '20px'}, children=[\n",
    "    html.H1('State-wise Profitability Dashboard', style={'textAlign': 'center', 'color': '#333333'}),\n",
    "\n",
    "   \n",
    "    html.Div([\n",
    "        html.H2('Key Profit Metrics', style={'textAlign': 'center', 'color': '#444444'}),\n",
    "        html.Div([\n",
    "            daq.LEDDisplay(\n",
    "                label=\"Total Profit ($)\",\n",
    "                value=f\"{int(total_profit):,}\",\n",
    "                size=40,\n",
    "                color=\"#43A047\",\n",
    "                backgroundColor=\"#e8eaf6\",\n",
    "                style={'margin': '0 20px'}\n",
    "            ),\n",
    "            daq.LEDDisplay(\n",
    "                label=\"Number of States\",\n",
    "                value=str(total_states),\n",
    "                size=40,\n",
    "                color=\"#FBC02D\",\n",
    "                backgroundColor=\"#e8eaf6\",\n",
    "                style={'margin': '0 20px'}\n",
    "            ),\n",
    "            daq.LEDDisplay(\n",
    "                label=\"Avg Profit/State ($)\",\n",
    "                value=f\"{int(avg_profit_per_state):,}\",\n",
    "                size=40,\n",
    "                color=\"#1E88E5\",\n",
    "                backgroundColor=\"#e8eaf6\",\n",
    "                style={'margin': '0 20px'}\n",
    "            ),\n",
    "        ], style={'display': 'flex', 'justifyContent': 'space-around', 'padding': '20px'})\n",
    "    ]),\n",
    "\n",
    "    # Top 10 Most Profitable States\n",
    "    html.Div([\n",
    "        html.H2('Top 10 Most Profitable States', style={'color': '#333333'}),\n",
    "        dcc.Graph(\n",
    "            figure=px.bar(top10_states, x='Profit', y='State',\n",
    "                          orientation='h', color='Profit',\n",
    "                          color_continuous_scale='Greens',\n",
    "                          title='Top 10 Profitable States')\n",
    "            .update_layout(\n",
    "                paper_bgcolor='#F9F9F9',\n",
    "                plot_bgcolor='#F9F9F9',\n",
    "                font_color='#222222',\n",
    "                xaxis=dict(showgrid=True, gridcolor='rgba(0,0,0,0.1)', zeroline=False),\n",
    "                yaxis=dict(showgrid=False),\n",
    "                margin=dict(l=150, r=40, t=60, b=40),\n",
    "                yaxis_autorange='reversed'\n",
    "            )\n",
    "        )\n",
    "    ]),\n",
    "\n",
    "    # Bottom 10 Least Profitable States\n",
    "    html.Div([\n",
    "        html.H2('Bottom 10 Least Profitable States', style={'color': '#333333'}),\n",
    "        dcc.Graph(\n",
    "            figure=px.bar(bottom10_states, x='Profit', y='State',\n",
    "                          orientation='h', color='Profit',\n",
    "                          color_continuous_scale='Reds',\n",
    "                          title='Bottom 10 Least Profitable States')\n",
    "            .update_layout(\n",
    "                paper_bgcolor='#F9F9F9',\n",
    "                plot_bgcolor='#F9F9F9',\n",
    "                font_color='#222222',\n",
    "                xaxis=dict(showgrid=True, gridcolor='rgba(0,0,0,0.1)', zeroline=False),\n",
    "                yaxis=dict(showgrid=False),\n",
    "                margin=dict(l=150, r=40, t=60, b=40),\n",
    "                yaxis_autorange='reversed'\n",
    "            )\n",
    "        )\n",
    "    ])\n",
    "])\n",
    "\n",
    "if __name__ == '__main__':\n",
    "    app.run(debug=True)"
   ]
  },
  {
   "cell_type": "markdown",
   "metadata": {
    "id": "-qOlFDpGYU0S"
   },
   "source": [
    "**When do sales peak or dip, and what seasonal trends exist?**"
   ]
  },
  {
   "cell_type": "code",
   "execution_count": null,
   "metadata": {
    "id": "cmycsO5p2tFV"
   },
   "outputs": [],
   "source": [
    "\n",
    "df['Month_Year'] = df['Order Date'].dt.to_period('M').astype(str)\n",
    "monthly_sales = df.groupby('Month_Year')['Sales'].sum().reset_index()\n",
    "monthly_sales.head(2)"
   ]
  },
  {
   "cell_type": "code",
   "execution_count": null,
   "metadata": {
    "id": "GMAC60Qn3H48"
   },
   "outputs": [],
   "source": [
    "monthly_sales['Month_Year'] = pd.to_datetime(monthly_sales['Month_Year'])\n",
    "monthly_sales = monthly_sales.sort_values('Month_Year')\n",
    "\n",
    "plt.figure(figsize=(14, 6))\n",
    "ax = sns.lineplot(data=monthly_sales, x='Month_Year', y='Sales', marker='o', color='skyblue', linewidth=2)\n",
    "\n",
    "\n",
    "plt.grid(axis='y', linestyle='--', alpha=0.6)\n",
    "\n",
    "\n",
    "for i in range(len(monthly_sales)):\n",
    "    plt.text(monthly_sales['Month_Year'].iloc[i],\n",
    "             monthly_sales['Sales'].iloc[i] + 500,\n",
    "             f\"${monthly_sales['Sales'].iloc[i]:,.0f}\",\n",
    "             ha='center', fontsize=8)\n",
    "\n",
    "plt.title('Monthly Sales Trend Over Time')\n",
    "plt.xlabel('Month-Year')\n",
    "plt.ylabel('Sales')\n",
    "plt.xticks(rotation=45)\n",
    "plt.tight_layout()\n",
    "plt.show()\n"
   ]
  },
  {
   "cell_type": "code",
   "execution_count": null,
   "metadata": {
    "id": "R3_7GhyR3Zd4"
   },
   "outputs": [],
   "source": [
    "#Average sales by calendar month (seasonality)\n",
    "seasonal_sales = df.groupby('Month')['Sales'].mean().reset_index()\n",
    "\n",
    "import calendar\n",
    "seasonal_sales['Month Name'] = seasonal_sales['Month'].apply(lambda x: calendar.month_abbr[x])\n",
    "\n",
    "plt.figure(figsize=(12, 5))\n",
    "ax = sns.barplot(x='Month Name', y='Sales', data=seasonal_sales, palette='pastel')\n",
    "plt.grid(axis='y', linestyle='--', alpha=0.6)\n",
    "\n",
    "\n",
    "for i, v in enumerate(seasonal_sales['Sales']):\n",
    "    plt.text(i, v + 200, f\"${v:,.0f}\", ha='center', fontweight='bold', fontsize=10)\n",
    "\n",
    "plt.title('Average Sales by Month (Seasonal Trend)')\n",
    "plt.xlabel('Month')\n",
    "plt.ylabel('Average Sales')\n",
    "plt.tight_layout()\n",
    "plt.show()\n"
   ]
  },
  {
   "cell_type": "code",
   "execution_count": null,
   "metadata": {
    "id": "DOn1IyQv4dKY"
   },
   "outputs": [],
   "source": [
    "df['Order Date'] = pd.to_datetime(df['Order Date'])\n",
    "df['Month'] = df['Order Date'].dt.month\n",
    "df['Year'] = df['Order Date'].dt.year\n",
    "df['Month_Year'] = df['Order Date'].dt.to_period('M').astype(str)\n",
    "\n",
    "# Monthly sales trend\n",
    "monthly_sales = df.groupby('Month_Year', as_index=False)['Sales'].sum()\n",
    "monthly_sales['Month_Year'] = pd.to_datetime(monthly_sales['Month_Year'])\n",
    "monthly_sales = monthly_sales.sort_values('Month_Year')\n",
    "\n",
    "# Seasonal average by calendar month\n",
    "seasonal_sales = df.groupby('Month', as_index=False)['Sales'].mean()\n",
    "import calendar\n",
    "seasonal_sales['Month Name'] = seasonal_sales['Month'].apply(lambda x: calendar.month_abbr[x])\n",
    "seasonal_sales = seasonal_sales.sort_values('Month')\n",
    "\n",
    "\n",
    "total_sales = df['Sales'].sum()\n",
    "avg_monthly_sales = monthly_sales['Sales'].mean()\n",
    "peak_month = monthly_sales.loc[monthly_sales['Sales'].idxmax(), 'Month_Year'].strftime('%b %Y')\n",
    "\n",
    "app = dash.Dash(__name__)\n",
    "app.title = 'Sales Trend & Seasonality Dashboard'\n",
    "\n",
    "\n",
    "app.layout = html.Div(style={'backgroundColor': '#F9F9F9', 'color': '#222222', 'padding': '20px'}, children=[\n",
    "    html.H1('Sales Trend & Seasonality Dashboard', style={'textAlign': 'center', 'color': '#333333'}),\n",
    "\n",
    "    html.Div([\n",
    "        html.H2('Sales KPIs', style={'textAlign': 'center', 'color': '#444444'}),\n",
    "        html.Div([\n",
    "            daq.LEDDisplay(\n",
    "                label=\"Total Sales ($)\",\n",
    "                value=f\"{int(total_sales):,}\",\n",
    "                size=40,\n",
    "                color=\"#43A047\",\n",
    "                backgroundColor=\"#e8eaf6\",\n",
    "                style={'margin': '0 20px'}\n",
    "            ),\n",
    "            daq.LEDDisplay(\n",
    "                label=\"Avg Monthly Sales ($)\",\n",
    "                value=f\"{int(avg_monthly_sales):,}\",\n",
    "                size=40,\n",
    "                color=\"#1E88E5\",\n",
    "                backgroundColor=\"#e8eaf6\",\n",
    "                style={'margin': '0 20px'}\n",
    "            ),\n",
    "            daq.LEDDisplay(\n",
    "                label=\"Peak Month\",\n",
    "                value=peak_month,\n",
    "                size=40,\n",
    "                color=\"#F57C00\",\n",
    "                backgroundColor=\"#e8eaf6\",\n",
    "                style={'margin': '0 20px'}\n",
    "            ),\n",
    "        ], style={'display': 'flex', 'justifyContent': 'space-around', 'padding': '20px'})\n",
    "    ]),\n",
    "\n",
    "    # Monthly Trend Line Chart\n",
    "    html.Div([\n",
    "        html.H2('Monthly Sales Over Time', style={'color': '#333333'}),\n",
    "        dcc.Graph(\n",
    "            figure=px.line(monthly_sales, x='Month_Year', y='Sales',\n",
    "                           title='Monthly Sales Trend',\n",
    "                           markers=True)\n",
    "            .update_traces(line_color='skyblue')\n",
    "            .update_layout(\n",
    "                paper_bgcolor='#F9F9F9',\n",
    "                plot_bgcolor='#F9F9F9',\n",
    "                font_color='#222222',\n",
    "                xaxis=dict(\n",
    "                    title='Month-Year',\n",
    "                    showgrid=True,\n",
    "                    gridcolor='rgba(0,0,0,0.1)',\n",
    "                    tickangle=45\n",
    "                ),\n",
    "                yaxis=dict(\n",
    "                    title='Sales',\n",
    "                    showgrid=True,\n",
    "                    gridcolor='rgba(0,0,0,0.1)'\n",
    "                ),\n",
    "                margin=dict(l=40, r=40, t=60, b=60)\n",
    "            )\n",
    "        )\n",
    "    ]),\n",
    "\n",
    "    # Seasonal Bar Chart\n",
    "    html.Div([\n",
    "        html.H2('Average Sales by Month (Seasonality)', style={'color': '#333333'}),\n",
    "        dcc.Graph(\n",
    "            figure=px.bar(seasonal_sales, x='Month Name', y='Sales',\n",
    "                          color='Sales',\n",
    "                          color_continuous_scale='Viridis', \n",
    "                          title='Average Sales by Calendar Month')\n",
    "            .update_layout(\n",
    "                paper_bgcolor='#F9F9F9',\n",
    "                plot_bgcolor='#F9F9F9',\n",
    "                font_color='#222222',\n",
    "                xaxis=dict(\n",
    "                    title='Month',\n",
    "                    showgrid=False\n",
    "                ),\n",
    "                yaxis=dict(\n",
    "                    title='Average Sales',\n",
    "                    showgrid=True,\n",
    "                    gridcolor='rgba(0,0,0,0.1)'\n",
    "                ),\n",
    "                margin=dict(l=40, r=40, t=60, b=60)\n",
    "            )\n",
    "        )\n",
    "    ])\n",
    "])\n",
    "\n",
    "if __name__ == '__main__':\n",
    "    app.run(debug=True)"
   ]
  },
  {
   "cell_type": "markdown",
   "metadata": {
    "id": "KtPlLhtjYd3b"
   },
   "source": [
    "**Which customer segments or categories contribute most to profits?**"
   ]
  },
  {
   "cell_type": "code",
   "execution_count": null,
   "metadata": {
    "id": "defYvZFj7yWQ"
   },
   "outputs": [],
   "source": [
    "segment_profit = df.groupby('Segment')['Profit'].sum().sort_values(ascending=False)\n",
    "category_profit = df.groupby('Category')['Profit'].sum().sort_values(ascending=False)\n"
   ]
  },
  {
   "cell_type": "code",
   "execution_count": null,
   "metadata": {
    "id": "YUhCNN5q73BZ"
   },
   "outputs": [],
   "source": [
    "segment_profit.head(4)"
   ]
  },
  {
   "cell_type": "code",
   "execution_count": null,
   "metadata": {
    "id": "9p3RSK7r7_Wf"
   },
   "outputs": [],
   "source": [
    "category_profit.head()"
   ]
  },
  {
   "cell_type": "code",
   "execution_count": null,
   "metadata": {
    "id": "EDSxoyz6YdGl"
   },
   "outputs": [],
   "source": [
    "\n",
    "plt.figure(figsize=(8, 5))\n",
    "ax = sns.barplot(x=segment_profit.values, y=segment_profit.index, palette=\"pastel\")\n",
    "ax.set_title('Profit Contribution by Customer Segment', fontsize=14)\n",
    "ax.set_xlabel('Total Profit')\n",
    "ax.set_ylabel('Segment')\n",
    "\n",
    "\n",
    "for i, v in enumerate(segment_profit.values):\n",
    "    ax.text(v + 1000, i, f\"${v:,.0f}\", va='center', fontsize=10)\n",
    "\n",
    "ax.xaxis.grid(True, linestyle='--', alpha=0.7)\n",
    "plt.tight_layout()\n",
    "plt.show()\n"
   ]
  },
  {
   "cell_type": "code",
   "execution_count": null,
   "metadata": {
    "id": "bKt_ad9-8TOY"
   },
   "outputs": [],
   "source": [
    "plt.figure(figsize=(8, 5))\n",
    "ax = sns.barplot(x=category_profit.values, y=category_profit.index,palette=\"pastel\")\n",
    "ax.set_title('Profit Contribution by Product Category', fontsize=14)\n",
    "ax.set_xlabel('Total Profit')\n",
    "ax.set_ylabel('Category')\n",
    "\n",
    "\n",
    "for i, v in enumerate(category_profit.values):\n",
    "    ax.text(v + 1000, i, f\"${v:,.0f}\", va='center', fontsize=10)\n",
    "\n",
    "\n",
    "ax.xaxis.grid(True, linestyle='--', alpha=0.7)\n",
    "plt.tight_layout()\n",
    "plt.show()"
   ]
  },
  {
   "cell_type": "code",
   "execution_count": null,
   "metadata": {
    "id": "Q-Al3VQX-Z2k"
   },
   "outputs": [],
   "source": [
    "segment_profit = df.groupby('Segment', as_index=False)['Profit'].sum().sort_values(by='Profit', ascending=False)\n",
    "category_profit = df.groupby('Category', as_index=False)['Profit'].sum().sort_values(by='Category', ascending=False)\n",
    "\n",
    "\n",
    "top_segment = segment_profit.iloc[0]\n",
    "top_category = category_profit.iloc[0]\n",
    "\n",
    "\n",
    "app = dash.Dash(__name__)\n",
    "app.title = 'Profit Contribution Dashboard'\n",
    "\n",
    "\n",
    "app.layout = html.Div(style={'backgroundColor': '#F9F9F9', 'color': '#222222', 'padding': '20px'}, children=[\n",
    "    html.H1('Profit Contribution Dashboard', style={'textAlign': 'center'}),\n",
    "\n",
    "   \n",
    "    html.Div([\n",
    "        html.H2('Top Contributors', style={'textAlign': 'center', 'color': '#444444'}),\n",
    "        html.Div([\n",
    "            daq.LEDDisplay(\n",
    "                label=\"Top Segment\",\n",
    "                value=top_segment['Segment'],\n",
    "                size=40,\n",
    "                color=\"#00897B\",\n",
    "                backgroundColor=\"#e0f2f1\",\n",
    "                style={'margin': '0 20px'}\n",
    "            ),\n",
    "            daq.LEDDisplay(\n",
    "                label=\"Top Category\",\n",
    "                value=top_category['Category'],\n",
    "                size=40,\n",
    "                color=\"#3949AB\",\n",
    "                backgroundColor=\"#e8eaf6\",\n",
    "                style={'margin': '0 20px'}\n",
    "            ),\n",
    "        ], style={'display': 'flex', 'justifyContent': 'center', 'padding': '20px'})\n",
    "    ]),\n",
    "\n",
    "    html.Div([\n",
    "        html.H2('Profit by Customer Segment', style={'color': '#333333'}),\n",
    "        dcc.Graph(\n",
    "            figure=px.bar(segment_profit, x='Profit', y='Segment',\n",
    "                          orientation='h',\n",
    "                          color='Profit',\n",
    "                          color_continuous_scale=px.colors.sequential.Blues,  \n",
    "                          title='Total Profit by Segment')\n",
    "            .update_layout(\n",
    "                paper_bgcolor='#F9F9F9',\n",
    "                plot_bgcolor='#F9F9F9',\n",
    "                font_color='#222222',\n",
    "                xaxis=dict(title='Profit', showgrid=True, gridcolor='rgba(0,0,0,0.1)'),\n",
    "                yaxis=dict(title='Segment'),\n",
    "                margin=dict(l=40, r=40, t=60, b=60)\n",
    "            )\n",
    "        )\n",
    "    ]),\n",
    "\n",
    "    html.Div([\n",
    "        html.H2('Profit by Product Category', style={'color': '#333333'}),\n",
    "        dcc.Graph(\n",
    "            figure=px.bar(category_profit, x='Profit', y='Category',\n",
    "                          orientation='h',\n",
    "                          color='Profit',\n",
    "                          color_continuous_scale=px.colors.sequential.Blues,  \n",
    "                          title='Total Profit by Category')\n",
    "            .update_layout(\n",
    "                paper_bgcolor='#F9F9F9',\n",
    "                plot_bgcolor='#F9F9F9',\n",
    "                font_color='#222222',\n",
    "                xaxis=dict(title='Profit', showgrid=True, gridcolor='rgba(0,0,0,0.1)'),\n",
    "                yaxis=dict(title='Category'),\n",
    "                margin=dict(l=40, r=40, t=60, b=60)\n",
    "            )\n",
    "        )\n",
    "    ])\n",
    "])\n",
    "\n",
    "if __name__ == '__main__':\n",
    "    app.run(debug=True)"
   ]
  },
  {
   "cell_type": "markdown",
   "metadata": {
    "id": "1Y5BIyQAYjvK"
   },
   "source": [
    "**How does discounting impact profitability and sales volume?**"
   ]
  },
  {
   "cell_type": "code",
   "execution_count": null,
   "metadata": {
    "id": "P6y-YKTIBp8J"
   },
   "outputs": [],
   "source": [
    "# Bin the discounts\n",
    "discount_bins = pd.cut(df['Discount'], bins=[0, 0.1, 0.2, 0.3, 0.5, 0.7], include_lowest=True)\n",
    "grouped_discount = df.copy()\n",
    "grouped_discount['Discount Range'] = discount_bins.astype(str)\n",
    "avg_profit_discount = grouped_discount.groupby('Discount Range', as_index=False)['Profit'].mean()\n",
    "avg_profit_discount.head(2)\n"
   ]
  },
  {
   "cell_type": "code",
   "execution_count": null,
   "metadata": {
    "id": "lmBECFyiAETz"
   },
   "outputs": [],
   "source": [
    "sns.set(style=\"whitegrid\", palette=\"pastel\")\n",
    "\n",
    "#Discount vs Profit\n",
    "plt.figure(figsize=(10, 6))\n",
    "ax = sns.scatterplot(data=df, x='Discount', y='Profit', alpha=0.6)\n",
    "sns.regplot(data=df, x='Discount', y='Profit', scatter=False, color='coral', line_kws={\"lw\": 2})\n",
    "\n",
    "ax.set_title('Impact of Discount on Profit', fontsize=14)\n",
    "ax.set_xlabel('Discount (%)')\n",
    "ax.set_ylabel('Profit ($)')\n",
    "ax.xaxis.grid(True, linestyle='--', alpha=0.7)\n",
    "ax.yaxis.grid(True, linestyle='--', alpha=0.7)\n",
    "plt.tight_layout()\n",
    "plt.show()"
   ]
  },
  {
   "cell_type": "code",
   "execution_count": null,
   "metadata": {
    "id": "PDuEA9SJAJR7"
   },
   "outputs": [],
   "source": [
    "#Discount vs Sales\n",
    "plt.figure(figsize=(10, 6))\n",
    "ax = sns.scatterplot(data=df, x='Discount', y='Sales', alpha=0.6)\n",
    "sns.regplot(data=df, x='Discount', y='Sales', scatter=False, color='blue', line_kws={\"lw\": 2})\n",
    "\n",
    "ax.set_title('Impact of Discount on Sales Volume', fontsize=14)\n",
    "ax.set_xlabel('Discount (%)')\n",
    "ax.set_ylabel('Sales ($)')\n",
    "ax.xaxis.grid(True, linestyle='--', alpha=0.7)\n",
    "ax.yaxis.grid(True, linestyle='--', alpha=0.7)\n",
    "plt.tight_layout()\n",
    "plt.show()"
   ]
  },
  {
   "cell_type": "code",
   "execution_count": null,
   "metadata": {
    "id": "5cDoZ8rwAO4k"
   },
   "outputs": [],
   "source": [
    "# Avg Profit & Sales per Discount Level\n",
    "discount_bins = pd.cut(df['Discount'], bins=[0, 0.1, 0.2, 0.3, 0.5, 0.7], include_lowest=True)\n",
    "grouped = df.groupby(discount_bins).agg({'Profit': 'mean', 'Sales': 'mean'}).reset_index()\n",
    "\n",
    "#Average Profit per Discount Range\n",
    "plt.figure(figsize=(10, 6))\n",
    "ax = sns.barplot(data=grouped, x='Discount', y='Profit')\n",
    "ax.set_title('Average Profit per Discount Range', fontsize=14)\n",
    "ax.set_xlabel('Discount Range')\n",
    "\n",
    "\n",
    "ax.set_ylabel('Average Profit')\n",
    "for i, v in enumerate(grouped['Profit']):\n",
    "    ax.text(i, v + 5, f\"${v:,.2f}\", ha='center')\n",
    "ax.yaxis.grid(True, linestyle='--', alpha=0.7)\n",
    "plt.tight_layout()\n",
    "plt.show()"
   ]
  },
  {
   "cell_type": "code",
   "execution_count": null,
   "metadata": {
    "id": "_0viq88hA0rC"
   },
   "outputs": [],
   "source": [
    "#Discounted Binned Data Preparation \n",
    "discount_bins = pd.cut(df['Discount'], bins=[0, 0.1, 0.2, 0.3, 0.5, 0.7], include_lowest=True)\n",
    "grouped_discount = df.copy()\n",
    "grouped_discount['Discount Range'] = discount_bins\n",
    "avg_profit_discount = grouped_discount.groupby('Discount Range', as_index=False)['Profit'].mean()\n",
    "\n",
    "#Scatter Plots with Trend Lines \n",
    "fig_discount_profit = px.scatter(df, x='Discount', y='Profit',\n",
    "                                 title='Discount vs Profit',\n",
    "                                 trendline='ols',\n",
    "                                 color_discrete_sequence=['#42A5F5'])\n",
    "fig_discount_profit.update_layout(\n",
    "    paper_bgcolor='#F9F9F9',\n",
    "    plot_bgcolor='#F9F9F9',\n",
    "    font_color='#222222',\n",
    "    xaxis=dict(showgrid=True, gridcolor='rgba(0,0,0,0.1)'),\n",
    "    yaxis=dict(showgrid=True, gridcolor='rgba(0,0,0,0.1)'),\n",
    "    margin=dict(l=40, r=40, t=60, b=60)\n",
    ")\n",
    "\n",
    "fig_discount_sales = px.scatter(df, x='Discount', y='Sales',\n",
    "                                title='Discount vs Sales',\n",
    "                                trendline='ols',\n",
    "                                color_discrete_sequence=['#66BB6A'])\n",
    "fig_discount_sales.update_layout(\n",
    "    paper_bgcolor='#F9F9F9',\n",
    "    plot_bgcolor='#F9F9F9',\n",
    "    font_color='#222222',\n",
    "    xaxis=dict(showgrid=True, gridcolor='rgba(0,0,0,0.1)'),\n",
    "    yaxis=dict(showgrid=True, gridcolor='rgba(0,0,0,0.1)'),\n",
    "    margin=dict(l=40, r=40, t=60, b=60)\n",
    ")\n",
    "\n",
    "#Average Profit per Discount Range \n",
    "fig_avg_profit_range = px.bar(avg_profit_discount, x='Discount Range', y='Profit',\n",
    "                              title='Average Profit by Discount Range',\n",
    "                              color='Profit',\n",
    "                              color_continuous_scale=px.colors.sequential.Blues)\n",
    "fig_avg_profit_range.update_layout(\n",
    "    paper_bgcolor='#F9F9F9',\n",
    "    plot_bgcolor='#F9F9F9',\n",
    "    font_color='#222222',\n",
    "    xaxis=dict(showgrid=False),\n",
    "    yaxis=dict(showgrid=True, gridcolor='rgba(0,0,0,0.1)'),\n",
    "    margin=dict(l=40, r=40, t=60, b=60)\n",
    ")\n",
    "\n",
    "\n",
    "app = dash.Dash(__name__)\n",
    "app.title = 'Discount Impact Dashboard'\n",
    "\n",
    "\n",
    "app.layout = html.Div(style={'backgroundColor': '#F9F9F9', 'color': '#222222', 'padding': '20px'}, children=[\n",
    "    html.H1('Discount Impact on Profit & Sales', style={'textAlign': 'center'}),\n",
    "\n",
    "    #Discount vs Profit \n",
    "    html.Div([\n",
    "        html.H2('How Discounts Affect Profit', style={'color': '#333333'}),\n",
    "        dcc.Graph(figure=fig_discount_profit)\n",
    "    ]),\n",
    "    \n",
    "    #Discount vs Sales \n",
    "    html.Div([\n",
    "        html.H2('How Discounts Affect Sales Volume', style={'color': '#333333'}),\n",
    "        dcc.Graph(figure=fig_discount_sales)\n",
    "    ]),\n",
    "\n",
    "    #Avg Profit by Discount Range \n",
    "    html.Div([\n",
    "        html.H2('Average Profit by Discount Range', style={'color': '#333333'}),\n",
    "        dcc.Graph(figure=fig_avg_profit_range)\n",
    "    ])\n",
    "])\n",
    "\n",
    "\n",
    "if __name__ == '__main__':\n",
    "    app.run(debug=True)\n"
   ]
  },
  {
   "cell_type": "markdown",
   "metadata": {
    "id": "d1myr2eDYv7V"
   },
   "source": [
    "**Is there inventory inefficiency or overstocking in low-performing items?**"
   ]
  },
  {
   "cell_type": "code",
   "execution_count": null,
   "metadata": {
    "id": "p23NTJ3YYw-k"
   },
   "outputs": [],
   "source": [
    "product_perf = df.groupby('Product Name').agg({'Sales': 'sum', 'Quantity': 'sum', 'Profit': 'sum'})\n",
    "low_perf = product_perf[(product_perf['Sales'] < product_perf['Sales'].quantile(0.25)) &\n",
    "                        (product_perf['Quantity'] > product_perf['Quantity'].quantile(0.75))]\n"
   ]
  },
  {
   "cell_type": "code",
   "execution_count": null,
   "metadata": {
    "id": "F67dQDjCYjdg"
   },
   "outputs": [],
   "source": [
    "#Sorting for clear view \n",
    "low_perf_sorted = low_perf.sort_values('Quantity', ascending=False).head(20)  # top 20 for clarity\n",
    "\n",
    "plt.figure(figsize=(14, 8))\n",
    "ax = sns.barplot(data=low_perf_sorted, x='Quantity', y=low_perf_sorted.index, palette='pastel')\n",
    "\n",
    "ax.xaxis.grid(True, linestyle='--', alpha=0.6)\n",
    "plt.title('Potential Overstocked Low-Performing Products', fontsize=16)\n",
    "plt.xlabel('Quantity Sold')\n",
    "plt.ylabel('Product Name')\n",
    "plt.tight_layout()\n",
    "plt.show()"
   ]
  },
  {
   "cell_type": "code",
   "execution_count": null,
   "metadata": {
    "id": "CPIuWL3yY8Qk"
   },
   "outputs": [],
   "source": [
    "#Data Aggregation \n",
    "product_perf = df.groupby('Product Name').agg({'Sales': 'sum', 'Quantity': 'sum', 'Profit': 'sum'}).reset_index()\n",
    "\n",
    "#Identify Low-Performing High-Quantity Products \n",
    "low_perf = product_perf[\n",
    "    (product_perf['Sales'] < product_perf['Sales'].quantile(0.25)) &\n",
    "    (product_perf['Quantity'] > product_perf['Quantity'].quantile(0.75))\n",
    "].sort_values('Quantity', ascending=False).head(20)  # Top 20 for clarity\n",
    "\n",
    "\n",
    "\n",
    "#Bar Plot for Low-Performing High-Quantity Products \n",
    "fig_low_perf = px.bar(low_perf,\n",
    "                      x='Quantity',\n",
    "                      y='Product Name',\n",
    "                      orientation='h',\n",
    "                      title='Low Sales but High Quantity Products (Potential Overstock)',\n",
    "                      color='Sales',\n",
    "                      color_continuous_scale=px.colors.sequential.RdPu)\n",
    "\n",
    "fig_low_perf.update_layout(\n",
    "    paper_bgcolor='#F9F9F9',\n",
    "    plot_bgcolor='#F9F9F9',\n",
    "    font_color='#222222',\n",
    "    xaxis=dict(showgrid=True, gridcolor='rgba(0,0,0,0.1)', title='Quantity Sold'),\n",
    "    yaxis=dict(showgrid=False, title='Product Name'),\n",
    "    margin=dict(l=100, r=40, t=60, b=60)\n",
    ")\n",
    "\n",
    "\n",
    "app = dash.Dash(__name__)\n",
    "app.title = 'Inventory Inefficiency Dashboard'\n",
    "\n",
    "app.layout = html.Div(style={'backgroundColor': '#F9F9F9', 'color': '#222222', 'padding': '20px'}, children=[\n",
    "    html.H1('Inventory Efficiency Insights', style={'textAlign': 'center'}),\n",
    "\n",
    "    html.Div([\n",
    "        html.H2('High Quantity but Low Sales Products', style={'color': '#333333'}),\n",
    "        dcc.Graph(figure=fig_low_perf)\n",
    "    ])\n",
    "])\n",
    "\n",
    "if __name__ == '__main__':\n",
    "    app.run(debug=True)\n"
   ]
  },
  {
   "cell_type": "markdown",
   "metadata": {
    "id": "VZSd_faiYx2C"
   },
   "source": [
    "**How do quantity sold and profit margins relate?**"
   ]
  },
  {
   "cell_type": "code",
   "execution_count": null,
   "metadata": {
    "id": "rl55joceY3cs"
   },
   "outputs": [],
   "source": [
    "sns.scatterplot(x='Quantity', y='Profit_Margin', data=df)\n",
    "plt.title('Quantity vs. Profit Margin')\n",
    "plt.show()"
   ]
  },
  {
   "cell_type": "markdown",
   "metadata": {
    "id": "-q3NdHGfY5aL"
   },
   "source": [
    "**Are there shipping methods causing losses or delays?**"
   ]
  },
  {
   "cell_type": "code",
   "execution_count": null,
   "metadata": {
    "id": "BUW2ECFKY_Sb"
   },
   "outputs": [],
   "source": [
    "df = df.reset_index() \n",
    "ship_loss = df.groupby('Ship Mode')['Profit'].sum().sort_values()\n",
    "ship_delay = (df['Ship Date'] - df['Order Date']).dt.days\n",
    "df['Shipping Delay'] = ship_delay\n",
    "shipping_delay_avg = df.groupby('Ship Mode')['Shipping Delay'].mean()"
   ]
  },
  {
   "cell_type": "code",
   "execution_count": null,
   "metadata": {
    "id": "Z9X1EyrlaMv6"
   },
   "outputs": [],
   "source": [
    "plt.figure(figsize=(16, 6))\n",
    "\n",
    "#Profit by Ship Mode \n",
    "plt.subplot(1, 2, 1)\n",
    "ax1 = sns.barplot(x=ship_loss.values, y=ship_loss.index, palette='pastel')\n",
    "ax1.set_title('Total Profit by Shipping Mode')\n",
    "ax1.set_xlabel('Total Profit')\n",
    "ax1.set_ylabel('Shipping Mode')\n",
    "ax1.xaxis.grid(True, linestyle='--', alpha=0.6)\n",
    "plt.tight_layout()\n",
    "plt.show()"
   ]
  },
  {
   "cell_type": "code",
   "execution_count": null,
   "metadata": {
    "id": "W0y0qHMLaQyE"
   },
   "outputs": [],
   "source": [
    "#Avg Shipping Delay by Ship Mode\n",
    "plt.subplot(1, 2, 2)\n",
    "ax2 = sns.barplot(x=shipping_delay_avg.values, y=shipping_delay_avg.index, palette='pastel')\n",
    "ax2.set_title('Average Shipping Delay by Mode (in days)')\n",
    "ax2.set_xlabel('Average Delay (Days)')\n",
    "ax2.set_ylabel('')\n",
    "ax2.xaxis.grid(True, linestyle='--', alpha=0.6)\n",
    "\n",
    "plt.tight_layout()\n",
    "plt.show()"
   ]
  },
  {
   "cell_type": "markdown",
   "metadata": {
    "id": "y0xfVvk3ZEqS"
   },
   "source": [
    "**Is the company losing money in certain categories or regions?**"
   ]
  },
  {
   "cell_type": "code",
   "execution_count": null,
   "metadata": {
    "id": "BKcvOzfXZFvS"
   },
   "outputs": [],
   "source": [
    "loss_by_category = df.groupby('Category')['Profit'].sum().sort_values()\n",
    "loss_by_region = df.groupby('Region')['Profit'].sum().sort_values()\n"
   ]
  },
  {
   "cell_type": "code",
   "execution_count": null,
   "metadata": {
    "id": "9jndRaDxa0_P"
   },
   "outputs": [],
   "source": [
    " \n",
    "plt.figure(figsize=(16, 6))\n",
    "\n",
    "#Profit by Category \n",
    "plt.subplot(1, 2, 1)\n",
    "ax1 = sns.barplot(x=loss_by_category.values, y=loss_by_category.index, palette='pastel')\n",
    "ax1.set_title('Total Profit by Category')\n",
    "ax1.set_xlabel('Total Profit')\n",
    "ax1.set_ylabel('Category')\n",
    "ax1.xaxis.grid(True, linestyle='--', alpha=0.6)\n",
    "\n",
    "plt.tight_layout()\n",
    "plt.show()"
   ]
  },
  {
   "cell_type": "code",
   "execution_count": null,
   "metadata": {
    "id": "D9rkZ4mWa5YT"
   },
   "outputs": [],
   "source": [
    "#Profit by Region \n",
    "plt.figure(figsize=(16, 6))\n",
    "plt.subplot(1, 2, 2)\n",
    "ax2 = sns.barplot(x=loss_by_region.values, y=loss_by_region.index, palette='pastel')\n",
    "ax2.set_title('Total Profit by Region')\n",
    "ax2.set_xlabel('Total Profit')\n",
    "ax2.set_ylabel('Region')\n",
    "ax2.xaxis.grid(True, linestyle='--', alpha=0.6)\n",
    "\n",
    "plt.tight_layout()\n",
    "plt.show()"
   ]
  },
  {
   "cell_type": "markdown",
   "metadata": {
    "id": "-BjY1KuxZG8r"
   },
   "source": [
    "**Can the company forecast sales trends for better planning?**"
   ]
  },
  {
   "cell_type": "code",
   "execution_count": null,
   "metadata": {
    "id": "8bNnrac2ZGb9"
   },
   "outputs": [],
   "source": [
    "from statsmodels.tsa.seasonal import seasonal_decompose\n",
    "\n",
    "df.set_index('Order Date', inplace=True)\n",
    "monthly_sales_ts = df['Sales'].resample('M').sum()\n",
    "\n",
    "decomposition = seasonal_decompose(monthly_sales_ts, model='additive')\n",
    "decomposition.plot()\n",
    "plt.show()\n"
   ]
  }
 ],
 "metadata": {
  "colab": {
   "private_outputs": true,
   "provenance": []
  },
  "kernelspec": {
   "display_name": "Python 3 (ipykernel)",
   "language": "python",
   "name": "python3"
  },
  "language_info": {
   "codemirror_mode": {
    "name": "ipython",
    "version": 3
   },
   "file_extension": ".py",
   "mimetype": "text/x-python",
   "name": "python",
   "nbconvert_exporter": "python",
   "pygments_lexer": "ipython3",
   "version": "3.12.7"
  }
 },
 "nbformat": 4,
 "nbformat_minor": 1
}
