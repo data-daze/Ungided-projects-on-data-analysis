{
  "nbformat": 4,
  "nbformat_minor": 0,
  "metadata": {
    "colab": {
      "private_outputs": true,
      "provenance": []
    },
    "kernelspec": {
      "name": "python3",
      "display_name": "Python 3"
    },
    "language_info": {
      "name": "python"
    }
  },
  "cells": [
    {
      "cell_type": "code",
      "execution_count": null,
      "metadata": {
        "id": "EuGQY_3GhyDB"
      },
      "outputs": [],
      "source": [
        "import pandas as pd\n",
        "import matplotlib.pyplot as plt\n",
        "import seaborn as sns\n",
        "import numpy as np"
      ]
    },
    {
      "cell_type": "markdown",
      "source": [
        "Some Tools name: Matplotlib, Seaborn, Plotly, Bokeh, Altair, ggplot, Pygal, Geoplotlib, Gleam, Missingno, Leather, WordCloud, Venn"
      ],
      "metadata": {
        "id": "YfzKritSijtN"
      }
    },
    {
      "cell_type": "code",
      "source": [
        "df=pd.read_csv('diamonds.csv')\n",
        "df.head(3)"
      ],
      "metadata": {
        "id": "QA2Q9kagjMFp"
      },
      "execution_count": null,
      "outputs": []
    },
    {
      "cell_type": "markdown",
      "source": [
        "Basic plot using Matplot"
      ],
      "metadata": {
        "id": "xAdXCwSgl8Y2"
      }
    },
    {
      "cell_type": "code",
      "source": [
        "plt.plot(df['carat'],df['price'])\n",
        "plt.show()"
      ],
      "metadata": {
        "id": "enOP9tecl4qo"
      },
      "execution_count": null,
      "outputs": []
    },
    {
      "cell_type": "code",
      "source": [
        "import matplotlib.pyplot as plt\n",
        "\n",
        "# Sample data\n",
        "exams = [1, 2, 3, 4, 5]            # Exam numbers\n",
        "scores = [65, 70, 75, 80, 90]      # Scores in each exam\n",
        "\n",
        "\n",
        "plt.plot(exams, scores, marker='o', color='blue', linestyle='--', linewidth=2)\n",
        "\n",
        "plt.title(\"Student's Exam Scores Over Time\")\n",
        "plt.xlabel(\"Exam Number\")\n",
        "plt.ylabel(\"Score\")\n",
        "plt.grid(True)\n",
        "plt.show()\n"
      ],
      "metadata": {
        "id": "pvcCWIhWmuPb"
      },
      "execution_count": null,
      "outputs": []
    },
    {
      "cell_type": "code",
      "source": [
        "!pip install plotly"
      ],
      "metadata": {
        "id": "M-3kBPhRpmZC"
      },
      "execution_count": null,
      "outputs": []
    },
    {
      "cell_type": "code",
      "source": [
        "import plotly.express as px\n",
        "import plotly.graph_objects as go\n",
        "import warnings\n",
        "warnings.filterwarnings('ignore')"
      ],
      "metadata": {
        "id": "1NUWoBLppu7p"
      },
      "execution_count": null,
      "outputs": []
    },
    {
      "source": [
        "fig = px.scatter(df, x='carat', y='price',color='cut',\n",
        "                 labels=\"\")\n",
        "fig.show()"
      ],
      "cell_type": "code",
      "metadata": {
        "id": "LEgchwC4wptx"
      },
      "execution_count": null,
      "outputs": []
    },
    {
      "cell_type": "code",
      "source": [
        "df_mean = df.groupby('carat')['price'].mean().reset_index()\n",
        "df_mean.head()"
      ],
      "metadata": {
        "id": "ssGsXG800of-"
      },
      "execution_count": null,
      "outputs": []
    },
    {
      "cell_type": "code",
      "source": [
        "fig = px.line(df_mean, x='carat', y='price',\n",
        "              labels={'carat': 'Carat', 'price': 'Price'})\n",
        "fig.show()"
      ],
      "metadata": {
        "id": "Zylp4E-x05ws"
      },
      "execution_count": null,
      "outputs": []
    },
    {
      "cell_type": "markdown",
      "source": [
        "Average of eash carat's point"
      ],
      "metadata": {
        "id": "iZTNVjjW1Uoy"
      }
    },
    {
      "cell_type": "code",
      "source": [
        "fig = px.bar(df, x='clarity', y='price', color='cut',\n",
        "             labels={'carat': 'Carat', 'price': 'Price'})\n",
        "fig.show()\n"
      ],
      "metadata": {
        "id": "M-apW9Bb1lLh"
      },
      "execution_count": null,
      "outputs": []
    },
    {
      "cell_type": "code",
      "source": [
        "df_stats=df.groupby('cut')['price'].agg(['min','mean','max']).reset_index()\n",
        "df_stats"
      ],
      "metadata": {
        "id": "fH2NkCX52_H6"
      },
      "execution_count": null,
      "outputs": []
    },
    {
      "source": [
        "fig=px.bar(df_stats,x='cut',y=['min','mean','max'],color='cut',\n",
        "           labels={'cut':'Cut','value':'Price'})\n",
        "fig.show()"
      ],
      "cell_type": "code",
      "metadata": {
        "id": "aBTRmLtu38VL"
      },
      "execution_count": null,
      "outputs": []
    },
    {
      "cell_type": "code",
      "source": [
        "fig=px.histogram(df,x='price',color='cut', nbins=50\n",
        ")\n",
        "fig.show()"
      ],
      "metadata": {
        "id": "WKJGQLHs4L4a"
      },
      "execution_count": null,
      "outputs": []
    },
    {
      "source": [
        "fig=px.density_contour(df,x='carat',y='price',color='cut'\n",
        ")\n",
        "fig.show()"
      ],
      "cell_type": "code",
      "metadata": {
        "id": "8xGd-AUn7jJt"
      },
      "execution_count": null,
      "outputs": []
    },
    {
      "source": [
        "fig=px.box(df,x='cut',y='price',color='cut',points='suspectedoutliers'\n",
        "\n",
        ")\n",
        "fig.show()"
      ],
      "cell_type": "code",
      "metadata": {
        "id": "3tTFIXx28evZ"
      },
      "execution_count": null,
      "outputs": []
    },
    {
      "cell_type": "code",
      "source": [
        "fig=px.box(df,x='cut',y='price',color='clarity',points='outliers'\n",
        "\n",
        ")\n",
        "fig.show()"
      ],
      "metadata": {
        "id": "nb7l09L9-vvB"
      },
      "execution_count": null,
      "outputs": []
    },
    {
      "cell_type": "code",
      "source": [
        "fig=px.violin(df,x='cut',y='price',points='outliers'\n",
        "\n",
        ")\n",
        "fig.show()"
      ],
      "metadata": {
        "id": "dshLgBqS_nY4"
      },
      "execution_count": null,
      "outputs": []
    },
    {
      "cell_type": "code",
      "source": [
        "fig=px.scatter(df,x='carat',y='price',color='cut', facet_col=\"clarity\",\n",
        "               size='depth',hover_data=['x','y','z'],\n",
        "               animation_frame='cut',\n",
        "               labels={'carat':'Carat','price':'Price'})\n",
        "fig.show()\n",
        "\n",
        "\n"
      ],
      "metadata": {
        "id": "E6skT4YrARfl"
      },
      "execution_count": null,
      "outputs": []
    },
    {
      "cell_type": "code",
      "source": [
        "fig=px.scatter(df,x='carat',y='price',color='cut', facet_col=\"clarity\",\n",
        "               size='price',hover_data=['x','y','z'],\n",
        "               animation_frame='cut',\n",
        "               labels={'carat':'Carat','price':'Price'})\n",
        "fig.show()\n",
        "\n",
        "\n"
      ],
      "metadata": {
        "id": "h0n9YYWlB8TT"
      },
      "execution_count": null,
      "outputs": []
    },
    {
      "source": [
        "#A density heatmap\n",
        "fig=px.density_heatmap(df,x='carat',y='price'\n",
        ")\n",
        "fig.show()"
      ],
      "cell_type": "code",
      "metadata": {
        "id": "nlnZe-RJCkZF"
      },
      "execution_count": null,
      "outputs": []
    },
    {
      "cell_type": "code",
      "source": [],
      "metadata": {
        "id": "1xw0BMC7C2xr"
      },
      "execution_count": null,
      "outputs": []
    },
    {
      "cell_type": "markdown",
      "source": [
        "subplot,corr(),go.figure"
      ],
      "metadata": {
        "id": "o8y_Y_9TFqPD"
      }
    },
    {
      "cell_type": "markdown",
      "source": [
        "3d **plot** **bold text**"
      ],
      "metadata": {
        "id": "BrYEJkZ7HPQC"
      }
    },
    {
      "cell_type": "code",
      "source": [
        "fix=px.scatter_3d(df,x='carat',y='price',z='depth',color='cut')\n",
        "fix.show()"
      ],
      "metadata": {
        "id": "tQWGFrNAFzAF"
      },
      "execution_count": null,
      "outputs": []
    },
    {
      "cell_type": "code",
      "source": [
        "fix=px.line_3d(df,x='carat',y='price',z='depth',color='cut')\n",
        "fix.show()"
      ],
      "metadata": {
        "id": "UF5Nc3sKIZ_m"
      },
      "execution_count": null,
      "outputs": []
    },
    {
      "cell_type": "code",
      "source": [
        "fix=px.scatter_3d(df,x='carat',y='price',z='depth',color='cut')\n",
        "fix.show()"
      ],
      "metadata": {
        "id": "WLateb-jJIm_"
      },
      "execution_count": null,
      "outputs": []
    },
    {
      "cell_type": "markdown",
      "source": [
        "area chart"
      ],
      "metadata": {
        "id": "sUm4e3SwJ4T9"
      }
    },
    {
      "source": [
        "fig=px.pie(df, names='clarity', color_discrete_sequence=px.colors.sequential.RdBu)\n",
        "fig.show()"
      ],
      "cell_type": "code",
      "metadata": {
        "id": "h28NYK26KiRG"
      },
      "execution_count": null,
      "outputs": []
    },
    {
      "cell_type": "code",
      "source": [
        "fig=px.treemap(df,path=['cut','clarity','color'],values='price')\n",
        "fig.show()"
      ],
      "metadata": {
        "id": "M_CC73D6K58V"
      },
      "execution_count": null,
      "outputs": []
    },
    {
      "cell_type": "code",
      "source": [
        "fig=px.parallel_coordinates(df,color='price')\n",
        "fig.show()"
      ],
      "metadata": {
        "id": "qgS7R9_sMQA0"
      },
      "execution_count": null,
      "outputs": []
    },
    {
      "cell_type": "code",
      "source": [],
      "metadata": {
        "id": "0JA7vunJeKTW"
      },
      "execution_count": null,
      "outputs": []
    },
    {
      "cell_type": "markdown",
      "source": [
        "**Start From  Here**"
      ],
      "metadata": {
        "id": "Au9xclGzU91a"
      }
    }
  ]
}