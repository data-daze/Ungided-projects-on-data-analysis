{
 "cells": [
  {
   "cell_type": "code",
   "execution_count": null,
   "metadata": {
    "id": "fGC9LhBAfJ7y"
   },
   "outputs": [],
   "source": [
    "import pandas as pd\n",
    "import numpy as np\n",
    "import seaborn as sns\n",
    "import matplotlib.pyplot as plt\n"
   ]
  },
  {
   "cell_type": "code",
   "execution_count": null,
   "metadata": {
    "id": "-PoA0-bifP-M"
   },
   "outputs": [],
   "source": [
    "from google.colab import drive\n",
    "drive.mount('/content/drive')"
   ]
  },
  {
   "cell_type": "code",
   "execution_count": null,
   "metadata": {
    "id": "ku_d9GHefYjL"
   },
   "outputs": [],
   "source": [
    "df = pd.read_excel('/content/drive/MyDrive/Data Analysis/Data sets/Superstore.xls')\n",
    "df.head(4)"
   ]
  },
  {
   "cell_type": "code",
   "execution_count": null,
   "metadata": {
    "id": "tYs0pKBGflam"
   },
   "outputs": [],
   "source": [
    "df['Postal Code'] = df['Postal Code'].astype('Int64').astype(str)\n",
    "df['Postal Code'].dtypes"
   ]
  },
  {
   "cell_type": "code",
   "execution_count": null,
   "metadata": {
    "id": "-tVWublafyXl"
   },
   "outputs": [],
   "source": [
    "df['Order Date'] = pd.to_datetime(df['Order Date'], format='%d/%m/%Y',errors='coerce')\n",
    "df['Ship Date'] = pd.to_datetime(df['Ship Date'], format='%d/%m/%Y',errors='coerce')\n",
    "df.info()"
   ]
  },
  {
   "cell_type": "code",
   "execution_count": null,
   "metadata": {
    "id": "rkKhfhp2gD36"
   },
   "outputs": [],
   "source": [
    "df['Year'] = df['Order Date'].dt.year \n",
    "df['Month'] = df['Order Date'].dt.month \n",
    "df['Month Name'] = df['Order Date'].dt.strftime('%B')\n",
    "df['Weekday'] = df['Order Date'].dt.day_name() "
   ]
  },
  {
   "cell_type": "code",
   "execution_count": null,
   "metadata": {
    "id": "cKtmifcrgHRh"
   },
   "outputs": [],
   "source": [
    "df['Year'].head(2)"
   ]
  },
  {
   "cell_type": "code",
   "execution_count": null,
   "metadata": {
    "id": "0KXtUzSZgPpK"
   },
   "outputs": [],
   "source": [
    "df['Profit_Margin'] = df['Profit'] / df['Sales']\n",
    "df['Profit_Margin'] = df['Profit_Margin'].fillna(0) \n",
    "df['Profit_Margin'].head(2)"
   ]
  },
  {
   "cell_type": "code",
   "execution_count": null,
   "metadata": {
    "id": "JdCNC1vhgQsd"
   },
   "outputs": [],
   "source": [
    "df['Profit_Margin_Percent'] = df['Profit_Margin'] * 100\n",
    "df['Profit_Margin_Percent'].round(2) .head(2)"
   ]
  },
  {
   "cell_type": "code",
   "execution_count": null,
   "metadata": {
    "id": "v3y6MgiUguu1"
   },
   "outputs": [],
   "source": [
    "df.describe()"
   ]
  },
  {
   "cell_type": "code",
   "execution_count": null,
   "metadata": {
    "id": "DCem1Jtagz8t"
   },
   "outputs": [],
   "source": [
    "df.describe().columns"
   ]
  },
  {
   "cell_type": "code",
   "execution_count": null,
   "metadata": {
    "id": "D8cO--eBgYxC"
   },
   "outputs": [],
   "source": [
    "df['Revenue_After_Discount'] = df['Sales'] * (1 - df['Discount'])\n",
    "df['Revenue_After_Discount'].head(2)"
   ]
  },
  {
   "cell_type": "code",
   "execution_count": null,
   "metadata": {
    "id": "Ce3gtnXZglga"
   },
   "outputs": [],
   "source": [
    "print(df['Ship Mode'].unique())\n",
    "print(df['Segment'].unique())\n",
    "print(df['Region'].unique())\n",
    "print(df['Category'].unique())\n",
    "print(df['Sub-Category'].unique())\n"
   ]
  },
  {
   "cell_type": "code",
   "execution_count": null,
   "metadata": {
    "id": "NnMVRcyMjPyW"
   },
   "outputs": [],
   "source": [
    "!pip install dash dash-daq pandas plotly"
   ]
  },
  {
   "cell_type": "code",
   "execution_count": null,
   "metadata": {
    "id": "PO-koGi9jcCS"
   },
   "outputs": [],
   "source": [
    "!pip install dash-bootstrap-components"
   ]
  },
  {
   "cell_type": "code",
   "execution_count": null,
   "metadata": {
    "id": "RGZ1idi1kkQM"
   },
   "outputs": [],
   "source": [
    "import plotly.express as px\n",
    "import dash\n",
    "from dash import dcc, html\n",
    "import dash_bootstrap_components as dbc\n",
    "\n",
    "\n",
    "\n",
    "\n",
    "app = dash.Dash(__name__, external_stylesheets=[dbc.themes.BOOTSTRAP])\n",
    "app.title = \"Superstore Dashboard\"\n",
    "\n",
    "kpi_cards = dbc.Row([\n",
    "    dbc.Col(dbc.Card([dbc.CardHeader(\"Total Sales\"), dbc.CardBody(f\"${df['Sales'].sum():,.2f}\")]), width=3),\n",
    "    dbc.Col(dbc.Card([dbc.CardHeader(\"Total Quantity\"), dbc.CardBody(f\"{df['Quantity'].sum():,}\")]), width=3),\n",
    "    dbc.Col(dbc.Card([dbc.CardHeader(\"Total Profit\"), dbc.CardBody(f\"${df['Profit'].sum():,.2f}\")]), width=3),\n",
    "    dbc.Col(dbc.Card([dbc.CardHeader(\"Avg Discount\"), dbc.CardBody(f\"{df['Discount'].mean()*100:.2f}%\")]), width=3),\n",
    "], className=\"mb-4\")\n",
    "\n",
    "\n",
    "region_sales = df.groupby('Region', as_index=False)['Sales'].sum()\n",
    "fig_region = px.bar(region_sales, x='Region', y='Sales', title=\"Sales by Region\", text='Sales')\n",
    "fig_region.update_traces(texttemplate='%{text:.2s}', textposition='outside')\n",
    "\n",
    "\n",
    "state_sales = df.groupby('State', as_index=False)['Sales'].sum().sort_values('Sales', ascending=False).head(10)\n",
    "fig_state = px.bar(state_sales, x='State', y='Sales', title=\"Top 10 States by Sales\", text='Sales')\n",
    "fig_state.update_traces(texttemplate='%{text:.2s}', textposition='outside')\n",
    "\n",
    "\n",
    "fig_cat = px.scatter(df, x='Sales', y='Profit', color='Category', title='Sales vs Profit by Category', hover_data=['Sub-Category'])\n",
    "\n",
    "\n",
    "fig_subcat = px.box(df, x='Sub-Category', y='Profit', color='Category', title=\"Profit Distribution by Sub-Category\")\n",
    "fig_subcat.update_traces(boxpoints='all', jitter=0.3)\n",
    "\n",
    "\n",
    "monthly = df.groupby('Month', as_index=False).agg({'Sales': 'sum', 'Profit': 'sum'})\n",
    "fig_month = px.line(monthly, x='Month', y=['Sales', 'Profit'], title=\"Monthly Sales vs Profit\")\n",
    "fig_month.update_traces(mode='lines+markers+text', textposition='top center')\n",
    "fig_month.update_layout(hovermode='x unified')\n",
    "\n",
    "\n",
    "fig_segment = px.histogram(df, x='Segment', title='Orders by Customer Segment', text_auto=True)\n",
    "\n",
    "\n",
    "fig_shipmode = px.histogram(df, x='Ship Mode', title='Orders by Shipping Preference', text_auto=True)\n",
    "\n",
    "\n",
    "top_customers = df.groupby('Customer Name', as_index=False).agg({'Order ID': 'nunique'})\n",
    "top_customers = top_customers.sort_values('Order ID', ascending=False).head(3)\n",
    "fig_customers = px.bar(top_customers, x='Customer Name', y='Order ID', title='Top 3 Customers by Orders', text='Order ID')\n",
    "fig_customers.update_traces(textposition='outside')\n",
    "\n",
    "\n",
    "app.layout = dbc.Container([\n",
    "    html.H1(\"Superstore Dashboard Overview\", className=\"text-center mt-4 mb-4\"),\n",
    "    kpi_cards,\n",
    "    dbc.Row([\n",
    "        dbc.Col(dcc.Graph(figure=fig_region), md=6),\n",
    "        dbc.Col(dcc.Graph(figure=fig_state), md=6),\n",
    "    ]),\n",
    "    dbc.Row([\n",
    "        dbc.Col(dcc.Graph(figure=fig_cat), md=6),\n",
    "        dbc.Col(dcc.Graph(figure=fig_subcat), md=6),\n",
    "    ]),\n",
    "    dbc.Row([\n",
    "        dbc.Col(dcc.Graph(figure=fig_month), md=12),\n",
    "    ]),\n",
    "    dbc.Row([\n",
    "        dbc.Col(dcc.Graph(figure=fig_segment), md=6),\n",
    "        dbc.Col(dcc.Graph(figure=fig_shipmode), md=6),\n",
    "    ]),\n",
    "    dbc.Row([\n",
    "        dbc.Col(dcc.Graph(figure=fig_customers), md=12),\n",
    "    ])\n",
    "], fluid=True)\n",
    "\n",
    "\n",
    "\n",
    "\n",
    "\n",
    "if __name__ == '__main__':\n",
    "    app.run(debug=True)"
   ]
  },
  {
   "cell_type": "code",
   "execution_count": null,
   "metadata": {
    "id": "ddBeBN-_lexQ"
   },
   "outputs": [],
   "source": [
    "df['Month'] = df['Order Date'].dt.to_period('M').astype(str)\n",
    "\n",
    "\n",
    "app = dash.Dash(__name__, external_stylesheets=[dbc.themes.BOOTSTRAP])\n",
    "app.title = \"Sales by Geography Dashboard\"\n",
    "\n",
    "\n",
    "total_sales = df['Sales'].sum()\n",
    "total_profit = df['Profit'].sum()\n",
    "total_quantity = df['Quantity'].sum()\n",
    "total_products = df['Product Name'].nunique()\n",
    "avg_profit_margin = (df['Profit'].sum() / df['Sales'].sum()) * 100\n",
    "\n",
    "kpi_cards = dbc.Row([\n",
    "    dbc.Col(dbc.Card([dbc.CardHeader(\"Total Sales\"), dbc.CardBody(f\"${total_sales:,.2f}\")]), width=2),\n",
    "    dbc.Col(dbc.Card([dbc.CardHeader(\"Total Profit\"), dbc.CardBody(f\"${total_profit:,.2f}\")]), width=2),\n",
    "    dbc.Col(dbc.Card([dbc.CardHeader(\"Total Quantity\"), dbc.CardBody(f\"{total_quantity:,}\")]), width=2),\n",
    "    dbc.Col(dbc.Card([dbc.CardHeader(\"Total Products\"), dbc.CardBody(f\"{total_products:,}\")]), width=2),\n",
    "    dbc.Col(dbc.Card([dbc.CardHeader(\"Profit Margin\"), dbc.CardBody(f\"{avg_profit_margin:.2f}%\")]), width=2),\n",
    "])\n",
    "\n",
    "\n",
    "fig_decomposition = px.sunburst(\n",
    "    df,\n",
    "    path=['State', 'City', 'Sub-Category', 'Product Name'],\n",
    "    values='Sales',\n",
    "    title=\"Decomposition: Sales by State → City → Sub-Category → Product\",\n",
    ")\n",
    "\n",
    "\n",
    "top_cities = df.groupby('City')['Sales'].sum().sort_values(ascending=False).head(3).index.tolist()\n",
    "top3_city_time = df[df['City'].isin(top_cities)]\n",
    "fig_top3 = px.line(\n",
    "    top3_city_time.groupby(['Month', 'City'], as_index=False)['Sales'].sum(),\n",
    "    x='Month', y='Sales', color='City',\n",
    "    title=\"Top 3 Cities by Sales Over Time\"\n",
    ")\n",
    "\n",
    "\n",
    "bottom_cities = df.groupby('City')['Sales'].sum().sort_values(ascending=True).head(3).index.tolist()\n",
    "bottom3_city_time = df[df['City'].isin(bottom_cities)]\n",
    "fig_bottom3 = px.line(\n",
    "    bottom3_city_time.groupby(['Month', 'City'], as_index=False)['Sales'].sum(),\n",
    "    x='Month', y='Sales', color='City',\n",
    "    title=\"Bottom 3 Cities by Sales Over Time\"\n",
    ")\n",
    "\n",
    "\n",
    "top10_qty = df.groupby('City', as_index=False)['Quantity'].sum().sort_values('Quantity', ascending=False).head(10)\n",
    "fig_top10_qty = px.bar(top10_qty, x='City', y='Quantity', text='Quantity', title=\"Top 10 Cities by Quantity\")\n",
    "fig_top10_qty.update_traces(textposition='outside')\n",
    "\n",
    "\n",
    "qty_by_cat_state = df.groupby(['State', 'Sub-Category'], as_index=False)['Quantity'].sum()\n",
    "fig_qty_heatmap = px.density_heatmap(\n",
    "    qty_by_cat_state, x='State', y='Sub-Category', z='Quantity',\n",
    "    title=\"Quantity by Sub-Category and State\", color_continuous_scale='Blues'\n",
    ")\n",
    "\n",
    "\n",
    "app.layout = dbc.Container([\n",
    "    html.H1(\"Sales by Geography Dashboard\", className=\"text-center mt-4 mb-4\"),\n",
    "    kpi_cards,\n",
    "    dbc.Row([\n",
    "        dbc.Col(dcc.Graph(figure=fig_decomposition), md=12)\n",
    "    ]),\n",
    "    dbc.Row([\n",
    "        dbc.Col(dcc.Graph(figure=fig_top3), md=6),\n",
    "        dbc.Col(dcc.Graph(figure=fig_bottom3), md=6),\n",
    "    ]),\n",
    "    dbc.Row([\n",
    "        dbc.Col(dcc.Graph(figure=fig_top10_qty), md=6),\n",
    "        dbc.Col(dcc.Graph(figure=fig_qty_heatmap), md=6),\n",
    "    ])\n",
    "], fluid=True)\n",
    "\n",
    "\n",
    "if __name__ == '__main__':\n",
    "    app.run(debug=True)\n"
   ]
  },
  {
   "cell_type": "code",
   "execution_count": null,
   "metadata": {
    "id": "Beie2imj9XiW"
   },
   "outputs": [],
   "source": [
    "\n",
    "df['Month'] = df['Order Date'].dt.to_period('M').dt.to_timestamp()\n",
    "\n",
    "\n",
    "app = dash.Dash(__name__, external_stylesheets=[dbc.themes.BOOTSTRAP])\n",
    "app.title = \"Customer Segment Insights\"\n",
    "\n",
    "\n",
    "total_sales = df['Sales'].sum()\n",
    "total_quantity = df['Quantity'].sum()\n",
    "total_profit = df['Profit'].sum()\n",
    "total_orders = df['Order ID'].nunique()\n",
    "avg_discount = df['Discount'].mean() * 100\n",
    "\n",
    "kpi_cards = dbc.Row([\n",
    "    dbc.Col(dbc.Card([dbc.CardHeader(\"Total Sales\"), dbc.CardBody(f\"${total_sales:,.2f}\")]), width=2),\n",
    "    dbc.Col(dbc.Card([dbc.CardHeader(\"Total Quantity\"), dbc.CardBody(f\"{total_quantity:,}\")]), width=2),\n",
    "    dbc.Col(dbc.Card([dbc.CardHeader(\"Total Profit\"), dbc.CardBody(f\"${total_profit:,.2f}\")]), width=2),\n",
    "    dbc.Col(dbc.Card([dbc.CardHeader(\"Total Orders\"), dbc.CardBody(f\"{total_orders:,}\")]), width=2),\n",
    "    dbc.Col(dbc.Card([dbc.CardHeader(\"Avg Discount\"), dbc.CardBody(f\"{avg_discount:.2f}%\")]), width=2),\n",
    "])\n",
    "\n",
    "\n",
    "seg_sales = df.groupby(['Month', 'Segment'], as_index=False)['Sales'].sum()\n",
    "fig_seg_sales = px.line(seg_sales, x='Month', y='Sales', color='Segment', title=\"Sales by Segment Over Time\")\n",
    "\n",
    "\n",
    "seg_profit = df.groupby(['Month', 'Segment'], as_index=False)['Profit'].sum()\n",
    "fig_seg_profit = px.line(seg_profit, x='Month', y='Profit', color='Segment', title=\"Profit by Segment Over Time\")\n",
    "\n",
    "\n",
    "ship_sales = df.groupby(['Month', 'Ship Mode'], as_index=False)['Sales'].sum()\n",
    "fig_ship_sales = px.line(ship_sales, x='Month', y='Sales', color='Ship Mode', title=\"Sales by Ship Mode Over Time\")\n",
    "\n",
    "\n",
    "ship_profit = df.groupby(['Month', 'Ship Mode'], as_index=False)['Profit'].sum()\n",
    "fig_ship_profit = px.line(ship_profit, x='Month', y='Profit', color='Ship Mode', title=\"Profit by Ship Mode Over Time\")\n",
    "\n",
    "\n",
    "seg_cat_profit = df.groupby(['Segment', 'Category'], as_index=False)['Profit'].sum()\n",
    "fig_seg_cat_profit = px.bar(seg_cat_profit, x='Segment', y='Profit', color='Category',\n",
    "                            barmode='group', title=\"Profit by Segment and Category\")\n",
    "\n",
    "\n",
    "city_seg_orders = df.groupby(['City'], as_index=False)['Order ID'].nunique()\n",
    "city_seg_orders = city_seg_orders.sort_values('Order ID', ascending=False).head(10)\n",
    "fig_top_city_seg = px.bar(city_seg_orders, x='City', y='Order ID', title=\"Top 10 Cities by Orders in Segment\", text='Order ID')\n",
    "fig_top_city_seg.update_traces(textposition='outside')\n",
    "\n",
    "\n",
    "city_ship_orders = df.groupby(['City'], as_index=False)['Order ID'].nunique()\n",
    "city_ship_orders = city_ship_orders.sort_values('Order ID', ascending=False).head(10)\n",
    "fig_top_city_ship = px.bar(city_ship_orders, x='City', y='Order ID', title=\"Top 10 Cities by Orders in Ship Mode\", text='Order ID')\n",
    "fig_top_city_ship.update_traces(textposition='outside')\n",
    "\n",
    "\n",
    "app.layout = dbc.Container([\n",
    "    html.H1(\"Customer Segment Insights\", className=\"text-center mt-4 mb-4\"),\n",
    "    kpi_cards,\n",
    "    dbc.Row([\n",
    "        dbc.Col(dcc.Graph(figure=fig_seg_sales), md=6),\n",
    "        dbc.Col(dcc.Graph(figure=fig_seg_profit), md=6),\n",
    "    ]),\n",
    "    dbc.Row([\n",
    "        dbc.Col(dcc.Graph(figure=fig_ship_sales), md=6),\n",
    "        dbc.Col(dcc.Graph(figure=fig_ship_profit), md=6),\n",
    "    ]),\n",
    "    dbc.Row([\n",
    "        dbc.Col(dcc.Graph(figure=fig_seg_cat_profit), md=12),\n",
    "    ]),\n",
    "    dbc.Row([\n",
    "        dbc.Col(dcc.Graph(figure=fig_top_city_seg), md=6),\n",
    "        dbc.Col(dcc.Graph(figure=fig_top_city_ship), md=6),\n",
    "    ]),\n",
    "], fluid=True)\n",
    "\n",
    "\n",
    "if __name__ == '__main__':\n",
    "    app.run(debug=True)"
   ]
  },
  {
   "cell_type": "code",
   "execution_count": null,
   "metadata": {
    "id": "AdM2gZ5U-4z1"
   },
   "outputs": [],
   "source": [
    "\n",
    "app = dash.Dash(__name__, external_stylesheets=[dbc.themes.BOOTSTRAP])\n",
    "app.title = \"Product Performance Dashboard\"\n",
    "\n",
    "\n",
    "top_sub_sales = df.groupby('Sub-Category', as_index=False)['Sales'].sum().sort_values('Sales', ascending=False).head(3)\n",
    "top_sub_discount = df.groupby('Sub-Category', as_index=False)['Discount'].mean().sort_values('Discount', ascending=False).head(3)\n",
    "df['Profit Margin'] = df['Profit'] / df['Sales']\n",
    "top_sub_profit_margin = df.groupby('Sub-Category', as_index=False)['Profit Margin'].mean().sort_values('Profit Margin', ascending=False).head(3)\n",
    "\n",
    "\n",
    "basket = df.groupby('Product Name', as_index=False).agg({\n",
    "    'Sales': 'sum',\n",
    "    'Profit': 'sum',\n",
    "    'Order ID': pd.Series.nunique\n",
    "}).rename(columns={'Order ID': 'Transactions'}).sort_values('Sales', ascending=False).head(10)\n",
    "\n",
    "fig_basket = px.bar(basket, x='Product Name', y='Sales', text='Sales', title='Top Basket Items by Sales')\n",
    "fig_basket.update_traces(textposition='outside')\n",
    "\n",
    "\n",
    "subcat_perf = df.groupby('Sub-Category', as_index=False)['Sales'].sum().sort_values('Sales', ascending=False)\n",
    "fig_subcat_perf = px.bar(subcat_perf, x='Sub-Category', y='Sales', text='Sales', title='Top Performing Sub-Categories')\n",
    "fig_subcat_perf.update_traces(textposition='outside')\n",
    "\n",
    "\n",
    "prod_perf = df.groupby('Product Name', as_index=False).agg({'Sales': 'sum', 'Profit': 'sum'})\n",
    "fig_prod_scatter = px.scatter(prod_perf, x='Sales', y='Profit', hover_name='Product Name',\n",
    "                              title='Top Products by Sales vs. Profit')\n",
    "\n",
    "\n",
    "top15 = prod_perf.sort_values('Sales', ascending=False).head(15)\n",
    "fig_top15 = px.bar(top15, x='Product Name', y='Sales', text='Profit', title='Top 15 Products by Sales (with Profit)')\n",
    "fig_top15.update_traces(textposition='outside')\n",
    "\n",
    "\n",
    "app.layout = dbc.Container([\n",
    "    html.H1(\"Product Performance Insights\", className=\"text-center mt-4 mb-4\"),\n",
    "\n",
    "    html.H4(\"Top 3 Sub-Categories\"),\n",
    "    dbc.Row([\n",
    "        dbc.Col(dbc.Card([dbc.CardHeader(\"By Sales\"), dbc.CardBody(html.Ul([html.Li(f\"{row['Sub-Category']} (${row['Sales']:.2f})\") for _, row in top_sub_sales.iterrows()]))]), width=4),\n",
    "        dbc.Col(dbc.Card([dbc.CardHeader(\"By Avg Discount\"), dbc.CardBody(html.Ul([html.Li(f\"{row['Sub-Category']} ({row['Discount']*100:.2f}%)\") for _, row in top_sub_discount.iterrows()]))]), width=4),\n",
    "        dbc.Col(dbc.Card([dbc.CardHeader(\"By Profit Margin\"), dbc.CardBody(html.Ul([html.Li(f\"{row['Sub-Category']} ({row['Profit Margin']*100:.2f}%)\") for _, row in top_sub_profit_margin.iterrows()]))]), width=4),\n",
    "    ], className=\"mb-4\"),\n",
    "\n",
    "    dbc.Row([\n",
    "        dbc.Col(dcc.Graph(figure=fig_basket), md=6),\n",
    "        dbc.Col(dcc.Graph(figure=fig_subcat_perf), md=6),\n",
    "    ]),\n",
    "    dbc.Row([\n",
    "        dbc.Col(dcc.Graph(figure=fig_prod_scatter), md=6),\n",
    "        dbc.Col(dcc.Graph(figure=fig_top15), md=6),\n",
    "    ]),\n",
    "], fluid=True)\n",
    "\n",
    "\n",
    "\n",
    "\n",
    "if __name__ == '__main__':\n",
    "    app.run(debug=True)\n"
   ]
  },
  {
   "cell_type": "code",
   "execution_count": null,
   "metadata": {
    "id": "2parRK75AP_S"
   },
   "outputs": [],
   "source": [
    "\n",
    "df['Month'] = df['Order Date'].dt.to_period('M').dt.to_timestamp()\n",
    "\n",
    "\n",
    "if 'AC' not in df.columns:\n",
    "    import numpy as np\n",
    "    np.random.seed(0)\n",
    "    df['AC'] = np.random.choice(['North', 'South', 'East', 'West'], size=len(df))\n",
    "\n",
    "df['Profit Margin'] = df['Profit'] / df['Sales']\n",
    "df = df[df['Sales'] > 0]  \n",
    "\n",
    "\n",
    "app = dash.Dash(__name__, external_stylesheets=[dbc.themes.BOOTSTRAP])\n",
    "app.title = \"Financial Analysis Dashboard\"\n",
    "\n",
    "\n",
    "fig_pvm_category = px.scatter(\n",
    "    df,\n",
    "    x='Discount',\n",
    "    y='Profit',\n",
    "    color='Category',\n",
    "    hover_data=['Sub-Category', 'Sales'],\n",
    "    title='PVM by Category: Profit vs Discount'\n",
    ")\n",
    "\n",
    "\n",
    "fig_pvm_subcat = px.scatter(\n",
    "    df,\n",
    "    x='Discount',\n",
    "    y='Profit',\n",
    "    color='Sub-Category',\n",
    "    hover_data=['Product Name', 'Category'],\n",
    "    title='PVM by Sub-Category: Profit vs Discount'\n",
    ")\n",
    "\n",
    "df['Discount Bin'] = pd.cut(df['Discount'], bins=[0, 0.1, 0.2, 0.3, 0.5, 1.0], include_lowest=True)\n",
    "discount_profit = df.groupby('Discount Bin', as_index=False)['Profit'].sum()\n",
    "fig_discount_profit = px.bar(\n",
    "    discount_profit, x='Discount Bin', y='Profit', text='Profit',\n",
    "    title='Profit by Discount Range'\n",
    ")\n",
    "fig_discount_profit.update_traces(textposition='outside')\n",
    "\n",
    "\n",
    "ac_profit = df.groupby('AC', as_index=False)['Profit'].sum()\n",
    "fig_ac_profit = px.bar(\n",
    "    ac_profit, x='AC', y='Profit', text='Profit', title='Profit by AC'\n",
    ")\n",
    "fig_ac_profit.update_traces(textposition='outside')\n",
    "\n",
    "\n",
    "app.layout = dbc.Container([\n",
    "    html.H1(\"Financial Performance Insights\", className=\"text-center mt-4 mb-4\"),\n",
    "\n",
    "    dbc.Row([\n",
    "        dbc.Col(dcc.Graph(figure=fig_pvm_category), md=6),\n",
    "        dbc.Col(dcc.Graph(figure=fig_pvm_subcat), md=6),\n",
    "    ]),\n",
    "    dbc.Row([\n",
    "        dbc.Col(dcc.Graph(figure=fig_discount_profit), md=6),\n",
    "        dbc.Col(dcc.Graph(figure=fig_ac_profit), md=6),\n",
    "    ])\n",
    "], fluid=True)\n",
    "\n",
    "\n",
    "if __name__ == \"__main__\":\n",
    "    app.run(debug=True)\n"
   ]
  }
 ],
 "metadata": {
  "colab": {
   "private_outputs": true,
   "provenance": []
  },
  "kernelspec": {
   "display_name": "Python 3 (ipykernel)",
   "language": "python",
   "name": "python3"
  },
  "language_info": {
   "codemirror_mode": {
    "name": "ipython",
    "version": 3
   },
   "file_extension": ".py",
   "mimetype": "text/x-python",
   "name": "python",
   "nbconvert_exporter": "python",
   "pygments_lexer": "ipython3",
   "version": "3.12.7"
  }
 },
 "nbformat": 4,
 "nbformat_minor": 1
}
