{
 "cells": [
  {
   "cell_type": "code",
   "execution_count": null,
   "metadata": {
    "colab": {
     "base_uri": "https://localhost:8080/",
     "height": 304
    },
    "id": "wJfRWBXN9byl",
    "outputId": "d4cbc7c1-0c3b-4cc4-e3be-a78e45ba1dbc"
   },
   "outputs": [
    {
     "ename": "ValueError",
     "evalue": "mount failed",
     "output_type": "error",
     "traceback": [
      "\u001b[0;31m---------------------------------------------------------------------------\u001b[0m",
      "\u001b[0;31mValueError\u001b[0m                                Traceback (most recent call last)",
      "\u001b[0;32m/tmp/ipython-input-2-1846137189.py\u001b[0m in \u001b[0;36m<cell line: 0>\u001b[0;34m()\u001b[0m\n\u001b[1;32m      1\u001b[0m \u001b[0;32mfrom\u001b[0m \u001b[0mgoogle\u001b[0m\u001b[0;34m.\u001b[0m\u001b[0mcolab\u001b[0m \u001b[0;32mimport\u001b[0m \u001b[0mdrive\u001b[0m\u001b[0;34m\u001b[0m\u001b[0;34m\u001b[0m\u001b[0m\n\u001b[0;32m----> 2\u001b[0;31m \u001b[0mdrive\u001b[0m\u001b[0;34m.\u001b[0m\u001b[0mmount\u001b[0m\u001b[0;34m(\u001b[0m\u001b[0;34m'/content/drive'\u001b[0m\u001b[0;34m)\u001b[0m\u001b[0;34m\u001b[0m\u001b[0;34m\u001b[0m\u001b[0m\n\u001b[0m",
      "\u001b[0;32m/usr/local/lib/python3.11/dist-packages/google/colab/drive.py\u001b[0m in \u001b[0;36mmount\u001b[0;34m(mountpoint, force_remount, timeout_ms, readonly)\u001b[0m\n\u001b[1;32m     98\u001b[0m \u001b[0;32mdef\u001b[0m \u001b[0mmount\u001b[0m\u001b[0;34m(\u001b[0m\u001b[0mmountpoint\u001b[0m\u001b[0;34m,\u001b[0m \u001b[0mforce_remount\u001b[0m\u001b[0;34m=\u001b[0m\u001b[0;32mFalse\u001b[0m\u001b[0;34m,\u001b[0m \u001b[0mtimeout_ms\u001b[0m\u001b[0;34m=\u001b[0m\u001b[0;36m120000\u001b[0m\u001b[0;34m,\u001b[0m \u001b[0mreadonly\u001b[0m\u001b[0;34m=\u001b[0m\u001b[0;32mFalse\u001b[0m\u001b[0;34m)\u001b[0m\u001b[0;34m:\u001b[0m\u001b[0;34m\u001b[0m\u001b[0;34m\u001b[0m\u001b[0m\n\u001b[1;32m     99\u001b[0m   \u001b[0;34m\"\"\"Mount your Google Drive at the specified mountpoint path.\"\"\"\u001b[0m\u001b[0;34m\u001b[0m\u001b[0;34m\u001b[0m\u001b[0m\n\u001b[0;32m--> 100\u001b[0;31m   return _mount(\n\u001b[0m\u001b[1;32m    101\u001b[0m       \u001b[0mmountpoint\u001b[0m\u001b[0;34m,\u001b[0m\u001b[0;34m\u001b[0m\u001b[0;34m\u001b[0m\u001b[0m\n\u001b[1;32m    102\u001b[0m       \u001b[0mforce_remount\u001b[0m\u001b[0;34m=\u001b[0m\u001b[0mforce_remount\u001b[0m\u001b[0;34m,\u001b[0m\u001b[0;34m\u001b[0m\u001b[0;34m\u001b[0m\u001b[0m\n",
      "\u001b[0;32m/usr/local/lib/python3.11/dist-packages/google/colab/drive.py\u001b[0m in \u001b[0;36m_mount\u001b[0;34m(mountpoint, force_remount, timeout_ms, ephemeral, readonly)\u001b[0m\n\u001b[1;32m    277\u001b[0m             \u001b[0;34m'https://research.google.com/colaboratory/faq.html#drive-timeout'\u001b[0m\u001b[0;34m\u001b[0m\u001b[0;34m\u001b[0m\u001b[0m\n\u001b[1;32m    278\u001b[0m         )\n\u001b[0;32m--> 279\u001b[0;31m       \u001b[0;32mraise\u001b[0m \u001b[0mValueError\u001b[0m\u001b[0;34m(\u001b[0m\u001b[0;34m'mount failed'\u001b[0m \u001b[0;34m+\u001b[0m \u001b[0mextra_reason\u001b[0m\u001b[0;34m)\u001b[0m\u001b[0;34m\u001b[0m\u001b[0;34m\u001b[0m\u001b[0m\n\u001b[0m\u001b[1;32m    280\u001b[0m     \u001b[0;32melif\u001b[0m \u001b[0mcase\u001b[0m \u001b[0;34m==\u001b[0m \u001b[0;36m4\u001b[0m\u001b[0;34m:\u001b[0m\u001b[0;34m\u001b[0m\u001b[0;34m\u001b[0m\u001b[0m\n\u001b[1;32m    281\u001b[0m       \u001b[0;31m# Terminate the DriveFS binary before killing bash.\u001b[0m\u001b[0;34m\u001b[0m\u001b[0;34m\u001b[0m\u001b[0m\n",
      "\u001b[0;31mValueError\u001b[0m: mount failed"
     ]
    }
   ],
   "source": [
    "\n",
    "from google.colab import drive\n",
    "drive.mount('/content/drive')\n"
   ]
  },
  {
   "cell_type": "code",
   "execution_count": null,
   "metadata": {
    "id": "a3KbL98SFv_l"
   },
   "outputs": [],
   "source": [
    "import numpy as np\n",
    "import matplotlib.pyplot as plt\n",
    "import seaborn as sns\n",
    "import pandas as pd"
   ]
  },
  {
   "cell_type": "code",
   "execution_count": null,
   "metadata": {
    "id": "Z4S9VhTBFwDf"
   },
   "outputs": [],
   "source": [
    "df=pd.pd.read_csv(file_path)\n",
    "df.head(3)"
   ]
  },
  {
   "cell_type": "code",
   "execution_count": null,
   "metadata": {
    "id": "9crmzoN9FwHs"
   },
   "outputs": [],
   "source": [
    "df.columns = df.iloc[0]# iloc is used for index-based selection\n",
    "df = df.drop(index = 0).reset_index(drop=True)\n",
    "df.columns=[\"Channel group\", \"DateHour\", \"Usres\",\"Sessions\",\"Engagged Sessions\", ]\n",
    "df.head(3)"
   ]
  },
  {
   "cell_type": "code",
   "execution_count": null,
   "metadata": {
    "id": "FTpjFTnuFwMY"
   },
   "outputs": [],
   "source": [
    "df.info()"
   ]
  },
  {
   "cell_type": "code",
   "execution_count": null,
   "metadata": {
    "id": "64M1J7KiFwQy"
   },
   "outputs": [],
   "source": [
    "df[\"DataHour\"]=pd.to_datetime(df[\"DataHour\"],format=\"%Y%m%d%H\", errors=\"coerce\")\n",
    "df.head()"
   ]
  },
  {
   "cell_type": "code",
   "execution_count": null,
   "metadata": {
    "id": "H8UpKUujFwUd"
   },
   "outputs": [],
   "source": [
    "numeric_cols=df.columns.frop(\"Channel group\",\"DareHour\")\n",
    "df[numeric_cols]=df[numeric_cols].apply(pd.to_numeric,errors=\"coerce\")\n",
    "df[\"Hour\"]=df[\"DataHour\"].dt.hour\n",
    "df.head()"
   ]
  },
  {
   "cell_type": "code",
   "execution_count": null,
   "metadata": {
    "id": "exOLgIaCFwYQ"
   },
   "outputs": [],
   "source": [
    "df.info()"
   ]
  },
  {
   "cell_type": "code",
   "execution_count": null,
   "metadata": {
    "id": "6HqyFd7zFwbo"
   },
   "outputs": [],
   "source": [
    "df.describe()"
   ]
  },
  {
   "cell_type": "markdown",
   "metadata": {
    "id": "RyruuRHI-Hpj"
   },
   "source": [
    "**1. What patterns and trends can you observe in website sessions and website time?**"
   ]
  },
  {
   "cell_type": "code",
   "execution_count": null,
   "metadata": {
    "id": "0patmp9b_6IA"
   },
   "outputs": [],
   "source": [
    "# sessions and user over time\n",
    "sns.set(style=\"whitegrid\")"
   ]
  },
  {
   "cell_type": "code",
   "execution_count": null,
   "metadata": {
    "id": "zEansU5UO43m"
   },
   "outputs": [],
   "source": [
    "plt.figure(figsize=(12, 6))\n",
    "df.groupby(\"DateHour\")[[\"Sessions\",\"Users\"]].sum().plot(ax=plt.gca())\n",
    "plt.title(\"Sessions and Users Over Time\")\n",
    "plt.xlabel(\"Date\")\n",
    "plt.ylabel(\"Count\")\n",
    "plt.legend()\n",
    "plt.show()"
   ]
  },
  {
   "cell_type": "markdown",
   "metadata": {
    "id": "NWZomV07_8Ga"
   },
   "source": [
    "**2. Which marketing channel brought the highest number of users to the website, and how can we use this insight to improve traffic from other sources?**"
   ]
  },
  {
   "cell_type": "code",
   "execution_count": null,
   "metadata": {
    "id": "BRI1PKIzRYVN"
   },
   "outputs": [],
   "source": [
    "#total uses by channel\n",
    "plt.figure(figsize=(12, 6))\n",
    "#df.barplot(x=\"Channel group\", y=\"Users\", data=df, palette=\"viridis\")\n",
    "df.barplot(x=\"Channel group\", y=\"Users\",estimator=np.sum,  palette=\"viridis\")\n",
    "plt.title(\"Total Users by Channel\")\n",
    "plt.xlabel(\"Channel\")\n",
    "plt.xticks(rotation=45)\n",
    "plt.ylabel(\"Users\")\n",
    "plt.show()"
   ]
  },
  {
   "cell_type": "markdown",
   "metadata": {
    "id": "pACDe7prBhEb"
   },
   "source": [
    "**3. Which channel has the highest average engagement time, and what does that tell us about user behaviour and content effectiveness?**"
   ]
  },
  {
   "cell_type": "code",
   "execution_count": null,
   "metadata": {
    "id": "6BL10DxqEs-I"
   },
   "outputs": [],
   "source": [
    "#average engagement time by channel\n",
    "plt.figure(figsize=(12, 6))\n",
    "df.barplot(data=df, x=\"Channel group\", y=\"Avg Engagement Time per sessions\", estimator=np.mean,  palette=\"magma\")\n",
    "plt.title(\"Average engagement time by channel\")\n",
    "plt.xlabel(\"Channel\")\n",
    "plt.xticks(rotation=45)\n",
    "plt.ylabel(\"Avg Engagement Time\")\n",
    "plt.show()"
   ]
  },
  {
   "cell_type": "markdown",
   "metadata": {
    "id": "pPpmewiVCmil"
   },
   "source": [
    "**4. How does engagement rate vary across different trafic channel?**"
   ]
  },
  {
   "cell_type": "code",
   "execution_count": null,
   "metadata": {
    "id": "LHapbkzSC216"
   },
   "outputs": [],
   "source": [
    "#engagement rate distribution by channel\n",
    "plt.figure(figsize=(12, 6))\n",
    "df.boxplot(column=\"Engagement Rate\", by=\"Channel group\", palette=\"viridis\")\n",
    "plt.title(\"Engagement Rate Distribution by Channel\")\n",
    "plt.xlabel(\"Channel\")\n",
    "plt.ylabel(\"Engagement Rate\")\n",
    "plt.show()\n",
    "#df.barplot(data=df, x=\"Channel group\", y=\"Engagement Rate\", estimator=np.mean,  palette=\"magma\")"
   ]
  },
  {
   "cell_type": "markdown",
   "metadata": {
    "id": "vM9aBad2DzWu"
   },
   "source": [
    "**5. Which channels are driving more engaged sessions compare to non-engaged ones, and what strategies can improve engagement in underperforming channels?**"
   ]
  },
  {
   "cell_type": "code",
   "execution_count": null,
   "metadata": {
    "id": "QwE6LqVrEXzq"
   },
   "outputs": [],
   "source": [
    "#Engaged vs non-engaged sessions\n",
    "session_df=df.groupby(\"Channel Group\")[[\"Sessions\",\"Engaged Sessions\"]].sum().reset_index()\n",
    "session_df[\"Non-engaged\"]=session_df[\"Sessions\"]-session_df[\"Engaged Sessions\"]\n",
    "session_df_melted=session_df.melt( id_vars=[\"Channel Group\"], value_vars=[\"Engaged Sessions\",\"Non-engaged\"])\n",
    "\n",
    "\n",
    "plt.figure(figsize=(12, 6))\n",
    "sns.barplot(data=session_df_melted, x=\"Channel Group\", y=\"value\", hue=\"variable\", palette=\"viridis\")\n",
    "plt.title(\"Engaged vs Non-engaged Sessions by Channel\")\n",
    "plt.xlabel(\"Channel\")\n",
    "plt.ylabel(\"Count\")"
   ]
  },
  {
   "cell_type": "markdown",
   "metadata": {
    "id": "BHzg2iZ9EcT4"
   },
   "source": [
    "**6. At what hours of the day does each chaneel drive the most?**"
   ]
  },
  {
   "cell_type": "code",
   "execution_count": null,
   "metadata": {
    "id": "IlrT1ATOEmVW"
   },
   "outputs": [],
   "source": [
    "#traffic by hour and channel\n",
    "plt.figure(figsize=(12, 6))\n",
    "sns.barplot(data=df, x=\"Hour\", y=\"Sessions\", hue=\"Channel group\", palette=\"viridis\")\n",
    "plt.title(\"Traffic by Hour and Channel\")\n",
    "plt.xlabel(\"Hour\")"
   ]
  },
  {
   "cell_type": "code",
   "execution_count": null,
   "metadata": {
    "id": "6VQc90D2aWSU"
   },
   "outputs": [],
   "source": [
    "heatmap_date=df.groupby([\"Hour\", \"Channel group\"])[\"Sessions\"].sum().unstack().fillna(0)\n",
    "heatmap_date.head()"
   ]
  },
  {
   "cell_type": "code",
   "execution_count": null,
   "metadata": {
    "id": "oML03X_aZtdw"
   },
   "outputs": [],
   "source": [
    "plt.figure(figsize=(12, 6))\n",
    "sns.heatamp(heatmap_date, cmap=\"viridis\",linewidths=.5,annot=True,fmt='.0f')\n",
    "plt.title(\"Traffic by Hour and Channel\") \n",
    "plt.xlabel(\"Channel group\")\n",
    "plt.xlabel(\"Hour of day\")\n",
    "plt.show()"
   ]
  },
  {
   "cell_type": "markdown",
   "metadata": {
    "id": "CQ6yngAQEtu6"
   },
   "source": [
    "**7. Is there any correlation high trafic(sessions) and high engagement rate over time?**"
   ]
  },
  {
   "cell_type": "code",
   "execution_count": null,
   "metadata": {
    "id": "aiT4gwzXFYgC"
   },
   "outputs": [],
   "source": [
    "#engagement rate vs sessions over time\n",
    "plt.figure(figsize=(12, 6))\n",
    "sns.scatterplot(data=df, x=\"Sessions\", y=\"Engagement Rate\", hue=\"Channel group\", palette=\"viridis\")"
   ]
  },
  {
   "cell_type": "code",
   "execution_count": null,
   "metadata": {
    "id": "MZRdOa4CbzFB"
   },
   "outputs": [],
   "source": [
    "df_plot=df.groupby(\"DateHour\")[[\"Sessions\",\"Engagement Rate\"]].mean().reset_index()\n",
    "df_plot.head()\n"
   ]
  },
  {
   "cell_type": "code",
   "execution_count": null,
   "metadata": {
    "id": "C1Rr5TWdbn48"
   },
   "outputs": [],
   "source": [
    "\n",
    "plt.figure(figsize=(12, 6))\n",
    "plt.plot(df_plot[\"DateHour\"], df_plot[\"Sessions\"], label=\"Sessions\",color=\"green\")\n",
    "plt.plot(df_plot[\"DateHour\"], df_plot[\"Engagement Rate\"], label=\"Engagement Rate\",color=\"blue\")\n",
    "plt.title(\"engagement rate vs sessions over time\")\n",
    "plt.xlabel(\"DateHour\")\n",
    "plt.ylabel(\"Count\")\n",
    "plt.legend()\n",
    "plt.show()\n"
   ]
  }
 ],
 "metadata": {
  "colab": {
   "provenance": []
  },
  "kernelspec": {
   "display_name": "Python 3 (ipykernel)",
   "language": "python",
   "name": "python3"
  },
  "language_info": {
   "codemirror_mode": {
    "name": "ipython",
    "version": 3
   },
   "file_extension": ".py",
   "mimetype": "text/x-python",
   "name": "python",
   "nbconvert_exporter": "python",
   "pygments_lexer": "ipython3",
   "version": "3.12.7"
  }
 },
 "nbformat": 4,
 "nbformat_minor": 1
}
