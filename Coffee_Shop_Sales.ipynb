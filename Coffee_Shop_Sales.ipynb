{
 "cells": [
  {
   "cell_type": "code",
   "execution_count": null,
   "metadata": {
    "id": "9uozOA8LUO4C"
   },
   "outputs": [],
   "source": [
    "import pandas as pd\n",
    "import numpy as np\n",
    "import seaborn as sns\n",
    "import matplotlib.pyplot as plt\n",
    "import warnings\n",
    "warnings.filterwarnings(\"ignore\")"
   ]
  },
  {
   "cell_type": "code",
   "execution_count": null,
   "metadata": {},
   "outputs": [],
   "source": []
  },
  {
   "cell_type": "code",
   "execution_count": null,
   "metadata": {
    "id": "m5oFaNutVPXc"
   },
   "outputs": [],
   "source": [
    "\n",
    "from google.colab import drive\n",
    "drive.mount('/content/drive')\n"
   ]
  },
  {
   "cell_type": "code",
   "execution_count": null,
   "metadata": {
    "id": "suiIaKU2Vn-h"
   },
   "outputs": [],
   "source": [
    "dataset_path = '/content/drive/MyDrive/Coffee Shop Sales .csv'"
   ]
  },
  {
   "cell_type": "code",
   "execution_count": null,
   "metadata": {
    "id": "kfbknwq7WSMz"
   },
   "outputs": [],
   "source": [
    "import pandas as pd\n",
    "\n",
    "df = pd.read_csv(dataset_path)  \n",
    "df.head()\n"
   ]
  },
  {
   "cell_type": "markdown",
   "metadata": {
    "id": "ZkDfpTtgTObL"
   },
   "source": [
    "**🔍 Exploratory Data Analysis (EDA) Checklist**"
   ]
  },
  {
   "cell_type": "code",
   "execution_count": null,
   "metadata": {
    "id": "WKgwjudpCoIN"
   },
   "outputs": [],
   "source": [
    "df.isnull().sum().sum()"
   ]
  },
  {
   "cell_type": "code",
   "execution_count": null,
   "metadata": {
    "id": "O7TshNmrCkGV"
   },
   "outputs": [],
   "source": [
    "df.info()"
   ]
  },
  {
   "cell_type": "code",
   "execution_count": null,
   "metadata": {
    "id": "A_MzH8T7TQ9L"
   },
   "outputs": [],
   "source": [
    "\n",
    "\n",
    "df.describe()\n",
    "\n"
   ]
  },
  {
   "cell_type": "markdown",
   "metadata": {
    "id": "NEf0K5i6Tt5U"
   },
   "source": [
    "| Goal               | What to Look For                      |\n",
    "| ------------------ | ------------------------------------- |\n",
    "| Best-selling items | Top products by revenue or quantity   |\n",
    "| Customer behavior  | Average items per transaction         |\n",
    "| Store performance  | Which store earns more                |\n",
    "| Time trends        | Best hours, days, or months           |\n",
    "| Pricing            | Which products are high vs. low price |\n"
   ]
  },
  {
   "cell_type": "markdown",
   "metadata": {
    "id": "mNmXd6XeUP-T"
   },
   "source": [
    "**Data Cleaning & Feature Engineering**"
   ]
  },
  {
   "cell_type": "code",
   "execution_count": null,
   "metadata": {
    "id": "xOXpde-gUPKX"
   },
   "outputs": [],
   "source": [
    "df['transaction_date'] = pd.to_datetime(df['transaction_date'], dayfirst=False)\n",
    "df['transaction_time'] = pd.to_datetime(df['transaction_time'], format='%H:%M:%S').dt.time\n",
    "df['revenue'] = df['transaction_qty'] * df['unit_price']\n",
    "\n",
    "\n",
    "df['day'] = df['transaction_date'].dt.day\n",
    "df['month'] = df['transaction_date'].dt.month\n",
    "df['weekday'] = df['transaction_date'].dt.day_name()\n"
   ]
  },
  {
   "cell_type": "markdown",
   "metadata": {
    "id": "0HR2YTAvUb0A"
   },
   "source": [
    "Univariate Analysis---\n",
    "Product Category Distribution:"
   ]
  },
  {
   "cell_type": "code",
   "execution_count": null,
   "metadata": {
    "id": "2ceqH3yCUbXu"
   },
   "outputs": [],
   "source": [
    "plt.figure(figsize=(10, 5))\n",
    "sns.countplot(x='product_category', data=df, order=df['product_category'].value_counts().index)\n",
    "plt.title(\"Product Category Count\")\n",
    "plt.xticks(rotation=45)\n",
    "plt.show()\n"
   ]
  },
  {
   "cell_type": "code",
   "execution_count": null,
   "metadata": {
    "id": "UI4WwvZYUmEa"
   },
   "outputs": [],
   "source": [
    "#Revenue Distribution\n",
    "plt.figure(figsize=(8, 5))\n",
    "sns.histplot(df['revenue'], bins=30, kde=True)\n",
    "plt.title(\"Revenue Distribution\")\n",
    "plt.show()\n"
   ]
  },
  {
   "cell_type": "markdown",
   "metadata": {
    "id": "cKLcQM6fU5aY"
   },
   "source": [
    "Bivariate Analysis--- Total Sales by Product Category "
   ]
  },
  {
   "cell_type": "code",
   "execution_count": null,
   "metadata": {
    "id": "uClkwJccU-UI"
   },
   "outputs": [],
   "source": [
    "cat_sales = df.groupby('product_category')['revenue'].sum().sort_values(ascending=False)\n",
    "cat_sales.plot(kind='bar', figsize=(10, 5), title='Total Sales by Category')\n",
    "plt.ylabel(\"Revenue\")\n",
    "plt.show()\n"
   ]
  },
  {
   "cell_type": "code",
   "execution_count": null,
   "metadata": {
    "id": "ukw7l53GVItf"
   },
   "outputs": [],
   "source": [
    "#Top 5 Store Locations by Revenue\n",
    "store_sales = df.groupby('store_location')['revenue'].sum().sort_values(ascending=False).head(5)\n",
    "store_sales.plot(kind='bar', figsize=(10, 5), title='Top 5 Store Locations by Revenue')\n",
    "plt.ylabel(\"Revenue\")\n",
    "plt.show()"
   ]
  },
  {
   "cell_type": "markdown",
   "metadata": {
    "id": "4iOqpkOqVUfn"
   },
   "source": [
    "Time Series Analysis---Daily Revenue Trend"
   ]
  },
  {
   "cell_type": "code",
   "execution_count": null,
   "metadata": {
    "id": "zjBZMr32VX1e"
   },
   "outputs": [],
   "source": [
    "daily_revenue = df.groupby('transaction_date')['revenue'].sum()\n",
    "daily_revenue.plot(figsize=(12, 5), title=\"Daily Revenue Trend\")\n",
    "plt.ylabel(\"Revenue\")\n",
    "plt.show()\n"
   ]
  },
  {
   "cell_type": "code",
   "execution_count": null,
   "metadata": {
    "id": "tZVJIZ-dVhUS"
   },
   "outputs": [],
   "source": [
    "# Sales by Day of Week\n",
    "\n",
    "\n",
    "df['revenue'] = df['transaction_qty'] * df['unit_price']\n",
    "df['transaction_date'] = pd.to_datetime(df['transaction_date'])\n",
    "df['weekday'] = df['transaction_date'].dt.day_name()\n",
    "\n",
    "weekday_sales = df.groupby('weekday')['revenue'].sum().reindex(['Monday', 'Tuesday', 'Wednesday', 'Thursday', 'Friday', 'Saturday', 'Sunday'])\n",
    "weekday_sales.plot(kind='bar', figsize=(10, 5), title='Revenue by Day of Week')\n",
    "plt.ylabel(\"Revenue\")\n",
    "plt.show()"
   ]
  },
  {
   "cell_type": "markdown",
   "metadata": {
    "id": "UM_don4lWA6D"
   },
   "source": [
    "Top Product---Top 10 Products by Sales"
   ]
  },
  {
   "cell_type": "code",
   "execution_count": 1,
   "metadata": {
    "id": "ED3J29PUWEar"
   },
   "outputs": [
    {
     "ename": "NameError",
     "evalue": "name 'df' is not defined",
     "output_type": "error",
     "traceback": [
      "\u001b[0;31m---------------------------------------------------------------------------\u001b[0m",
      "\u001b[0;31mNameError\u001b[0m                                 Traceback (most recent call last)",
      "Cell \u001b[0;32mIn[1], line 1\u001b[0m\n\u001b[0;32m----> 1\u001b[0m top_products \u001b[38;5;241m=\u001b[39m \u001b[43mdf\u001b[49m\u001b[38;5;241m.\u001b[39mgroupby(\u001b[38;5;124m'\u001b[39m\u001b[38;5;124mproduct_detail\u001b[39m\u001b[38;5;124m'\u001b[39m)[\u001b[38;5;124m'\u001b[39m\u001b[38;5;124mrevenue\u001b[39m\u001b[38;5;124m'\u001b[39m]\u001b[38;5;241m.\u001b[39msum()\u001b[38;5;241m.\u001b[39msort_values(ascending\u001b[38;5;241m=\u001b[39m\u001b[38;5;28;01mFalse\u001b[39;00m)\u001b[38;5;241m.\u001b[39mhead(\u001b[38;5;241m10\u001b[39m)\n\u001b[1;32m      2\u001b[0m top_products\u001b[38;5;241m.\u001b[39mplot(kind\u001b[38;5;241m=\u001b[39m\u001b[38;5;124m'\u001b[39m\u001b[38;5;124mbar\u001b[39m\u001b[38;5;124m'\u001b[39m, figsize\u001b[38;5;241m=\u001b[39m(\u001b[38;5;241m12\u001b[39m, \u001b[38;5;241m6\u001b[39m), title\u001b[38;5;241m=\u001b[39m\u001b[38;5;124m'\u001b[39m\u001b[38;5;124mTop 10 Best-Selling Products\u001b[39m\u001b[38;5;124m'\u001b[39m)\n\u001b[1;32m      3\u001b[0m plt\u001b[38;5;241m.\u001b[39mylabel(\u001b[38;5;124m\"\u001b[39m\u001b[38;5;124mRevenue\u001b[39m\u001b[38;5;124m\"\u001b[39m)\n",
      "\u001b[0;31mNameError\u001b[0m: name 'df' is not defined"
     ]
    }
   ],
   "source": [
    "top_products = df.groupby('product_detail')['revenue'].sum().sort_values(ascending=False).head(10)\n",
    "top_products.plot(kind='bar', figsize=(12, 6), title='Top 10 Best-Selling Products')\n",
    "plt.ylabel(\"Revenue\")\n",
    "plt.xticks(rotation=45)\n",
    "plt.show()\n"
   ]
  },
  {
   "cell_type": "markdown",
   "metadata": {
    "id": "DLJpCV1mYUdb"
   },
   "source": [
    "**1. Which product category generates the highest revenue?**"
   ]
  },
  {
   "cell_type": "code",
   "execution_count": null,
   "metadata": {
    "id": "xXrAoPflfUIY"
   },
   "outputs": [],
   "source": [
    "##Revenue by Product Category\n",
    "\n",
    "df['revenue'] = df['transaction_qty'] * df['unit_price']\n",
    "category_revenue = df.groupby('product_category')['revenue'].sum().sort_values()\n",
    "\n",
    "plt.figure(figsize=(10, 6))\n",
    "sns.barplot(x=category_revenue.values, y=category_revenue.index, palette='viridis')\n",
    "plt.title(\"Revenue by Product Category\")\n",
    "plt.xlabel(\"Total Revenue\")\n",
    "plt.ylabel(\"Product Category\")\n",
    "plt.tight_layout()\n",
    "plt.show()\n"
   ]
  },
  {
   "cell_type": "markdown",
   "metadata": {
    "id": "O7C6Q1dSQB7e"
   },
   "source": [
    "**Most Profitable Product Categories:**\n",
    "These are the products category with the highest revenue and these are the best performer.\n",
    "This means customers are spending the most money on these category."
   ]
  },
  {
   "cell_type": "markdown",
   "metadata": {
    "id": "jiIcxFdHYm_s"
   },
   "source": [
    "**2. Which product type is the most sold (by quantity)?**\n",
    "\n"
   ]
  },
  {
   "cell_type": "code",
   "execution_count": null,
   "metadata": {
    "id": "2-Q7AWr8Jc0g"
   },
   "outputs": [],
   "source": [
    "#Top Selling Product Types (by Quantity)\n",
    "type_qty = df.groupby('product_type')['transaction_qty'].sum().sort_values()\n",
    "\n",
    "plt.figure(figsize=(10, 6))\n",
    "sns.barplot(x=type_qty.values, y=type_qty.index, palette='magma')\n",
    "plt.title(\"Top Selling Product Types\")\n",
    "plt.xlabel(\"Total Quantity Sold\")\n",
    "plt.ylabel(\"Product Type\")\n",
    "plt.tight_layout()\n",
    "plt.show()\n"
   ]
  },
  {
   "cell_type": "markdown",
   "metadata": {
    "id": "cNO1ejc2QJ0W"
   },
   "source": [
    "**Top Selling Product Types:**\n",
    "These types of products were sold the most in quantity.\n",
    "Means these type with the highest sales was the most popular among customers."
   ]
  },
  {
   "cell_type": "markdown",
   "metadata": {
    "id": "W8ivXbv7Y8lt"
   },
   "source": [
    "**3. What are the top 5 best-selling products (by revenue)?**"
   ]
  },
  {
   "cell_type": "code",
   "execution_count": null,
   "metadata": {
    "id": "6RqFzmU7Jv6k"
   },
   "outputs": [],
   "source": [
    "#Top 5 Products by Revenue\n",
    "top_products = df.groupby('product_detail')['revenue'].sum().sort_values(ascending=False).head(5)\n",
    "\n",
    "plt.figure(figsize=(10, 6))\n",
    "sns.barplot(x=top_products.values, y=top_products.index, palette='coolwarm')\n",
    "plt.title(\"Top 5 Products by Revenue\")\n",
    "plt.xlabel(\"Revenue\")\n",
    "plt.ylabel(\"Product\")\n",
    "plt.tight_layout()\n",
    "plt.show()\n"
   ]
  },
  {
   "cell_type": "markdown",
   "metadata": {
    "id": "tvmONa93QTpe"
   },
   "source": [
    "**Top 5 Products by Revenue:**\n",
    "These are the top 5 products that earned the most money.\n",
    "Means these products are the most profitable items in the shop.\n",
    "They bring in the most income and should be promoted more."
   ]
  },
  {
   "cell_type": "markdown",
   "metadata": {
    "id": "9OccUgA7ZIu3"
   },
   "source": [
    "**4. Which store location performs the best in terms of revenue?**"
   ]
  },
  {
   "cell_type": "code",
   "execution_count": null,
   "metadata": {
    "id": "sEoYwzjnKAzJ"
   },
   "outputs": [],
   "source": [
    "#Revenue by Store Location\n",
    "location_revenue = df.groupby('store_location')['revenue'].sum().sort_values(ascending=False)\n",
    "\n",
    "plt.figure(figsize=(10, 6))\n",
    "sns.barplot(x=location_revenue.values, y=location_revenue.index, palette='cubehelix')\n",
    "plt.title(\"Revenue by Store Location\")\n",
    "plt.xlabel(\"Total Revenue\")\n",
    "plt.ylabel(\"Store Location\")\n",
    "plt.tight_layout()\n",
    "plt.show()\n"
   ]
  },
  {
   "cell_type": "markdown",
   "metadata": {
    "id": "glaK3l-oQYJC"
   },
   "source": [
    "**Best Performing Store Location:**\n",
    "These are the top store location which are doing the best in sales.\n",
    "Other stores can follow its strategy to improve performance."
   ]
  },
  {
   "cell_type": "markdown",
   "metadata": {
    "id": "o1sqVbFTZWxN"
   },
   "source": [
    "**5. What are the peak sales hours in a day?**"
   ]
  },
  {
   "cell_type": "code",
   "execution_count": null,
   "metadata": {
    "id": "U5MPXtzWN8g_"
   },
   "outputs": [],
   "source": [
    "#Peak Sales Hours\n",
    "df['hour'] = pd.to_datetime(df['transaction_time']).dt.hour\n",
    "sales_by_hour = df.groupby('hour')['transaction_qty'].sum()\n",
    "\n",
    "plt.figure(figsize=(10, 6))\n",
    "sns.lineplot(x=sales_by_hour.index, y=sales_by_hour.values, marker='o')\n",
    "plt.title(\"Sales by Hour\")\n",
    "plt.xlabel(\"Hour of Day\")\n",
    "plt.ylabel(\"Quantity Sold\")\n",
    "plt.xticks(range(0, 24))\n",
    "plt.grid(True)\n",
    "plt.tight_layout()\n",
    "plt.show()\n"
   ]
  },
  {
   "cell_type": "markdown",
   "metadata": {
    "id": "Jw7bvPybQdZO"
   },
   "source": [
    "**Peak Sales Hours:**\n",
    "Here, sales are analyzed by hour of the day. Most sales happen during 8-10 hours (the peak hours).\n",
    "This helps us to understand  when the shop is the busiest and needs more staff."
   ]
  },
  {
   "cell_type": "markdown",
   "metadata": {
    "id": "h6oXlmSnanid"
   },
   "source": [
    "**6. How does daily sales revenue vary over time?**"
   ]
  },
  {
   "cell_type": "code",
   "execution_count": null,
   "metadata": {
    "id": "jQ9Qn_UBOM00"
   },
   "outputs": [],
   "source": [
    "#Daily Sales Revenue Trend\n",
    "df['transaction_date'] = pd.to_datetime(df['transaction_date'])\n",
    "daily_sales = df.groupby('transaction_date')['revenue'].sum().reset_index()\n",
    "\n",
    "\n",
    "plt.figure(figsize=(14,6))\n",
    "sns.lineplot(data=daily_revenue, x='transaction_date', y='Revenue', marker='o')\n",
    "plt.title(\"Daily Sales Revenue Over Time\", fontsize=16)\n",
    "plt.xlabel(\"Date\")\n",
    "plt.ylabel(\"Total Revenue\")\n",
    "plt.xticks(rotation=45)\n",
    "plt.grid(True)\n",
    "plt.tight_layout()\n",
    "plt.show()\n",
    "\n",
    "\n",
    "\n"
   ]
  },
  {
   "cell_type": "markdown",
   "metadata": {
    "id": "ddKzU3RhMAi1"
   },
   "source": [
    "**Daily Revenue Trend:**\n",
    "This chart shows how much revenue the shop makes each day.\n",
    "2023-06 has the  higher revenue than others.\n",
    "This helps us plan for busy and slow days."
   ]
  },
  {
   "cell_type": "markdown",
   "metadata": {
    "id": "z6KY1EGjOazF"
   },
   "source": [
    "**What is the most profitable day of the week?**"
   ]
  },
  {
   "cell_type": "code",
   "execution_count": null,
   "metadata": {
    "id": "32tZxE9Bahna"
   },
   "outputs": [],
   "source": [
    "# Transactions per Day of Week\n",
    "df['day_of_week'] = df['transaction_date'].dt.day_name()\n",
    "day_sales = df.groupby('day_of_week')['revenue'].sum().reindex([\n",
    "    'Monday', 'Tuesday', 'Wednesday', 'Thursday', 'Friday', 'Saturday', 'Sunday'])\n",
    "\n",
    "plt.figure(figsize=(10, 6))\n",
    "sns.barplot(x=day_sales.index, y=day_sales.values, palette='plasma')\n",
    "plt.title(\"Revenue by Day of Week\")\n",
    "plt.xlabel(\"Day\")\n",
    "plt.ylabel(\"Revenue\")\n",
    "plt.tight_layout()\n",
    "plt.show()\n"
   ]
  },
  {
   "cell_type": "markdown",
   "metadata": {
    "id": "6l138OalQrr2"
   },
   "source": [
    "**Sales by Day of the Week:**\n",
    "Monday  makes the most money  of the week.This helps us plan marketing and promotions better."
   ]
  },
  {
   "cell_type": "markdown",
   "metadata": {
    "id": "Ml_0RUxia8LE"
   },
   "source": [
    "**8. How many transactions occurred each day or month?**"
   ]
  },
  {
   "cell_type": "code",
   "execution_count": null,
   "metadata": {
    "id": "hiMtF_BwahrI"
   },
   "outputs": [],
   "source": [
    "daily_transactions = df.groupby('transaction_date')['transaction_id'].nunique()\n",
    "monthly_transactions = df.groupby(df['transaction_date'].dt.to_period('M'))['transaction_id'].nunique()\n"
   ]
  },
  {
   "cell_type": "code",
   "execution_count": null,
   "metadata": {
    "id": "6gtHM7JAPL4n"
   },
   "outputs": [],
   "source": [
    "#Transaction Quantity Distribution\n",
    "\n",
    "plt.figure(figsize=(8, 5))\n",
    "sns.histplot(df['transaction_qty'], bins=20, kde=True, color='steelblue')\n",
    "plt.title(\"Distribution of Transaction Quantities\")\n",
    "plt.xlabel(\"Quantity\")\n",
    "plt.ylabel(\"Frequency\")\n",
    "plt.tight_layout()\n",
    "plt.show()\n"
   ]
  },
  {
   "cell_type": "markdown",
   "metadata": {
    "id": "To7PpKPkQz1P"
   },
   "source": [
    "**Transaction Quantity Distribution:**\n",
    "We checked how many items people usually buy in one transaction.\n",
    "Most customers buy a small number of items.\n",
    "This helps us understand customer behavior."
   ]
  },
  {
   "cell_type": "markdown",
   "metadata": {
    "id": "a3Vib1R-bQmM"
   },
   "source": [
    "**What is the average revenue per transaction?**"
   ]
  },
  {
   "cell_type": "code",
   "execution_count": null,
   "metadata": {
    "id": "DjbmthotahvM"
   },
   "outputs": [],
   "source": [
    "avg_revenue = df.groupby('transaction_id')['revenue'].sum().mean()\n"
   ]
  },
  {
   "cell_type": "code",
   "execution_count": null,
   "metadata": {
    "id": "KgmCFkUdPenv"
   },
   "outputs": [],
   "source": [
    "#Top 10 Products by Quantity Sold\n",
    "top_qty = df.groupby('product_detail')['transaction_qty'].sum().sort_values(ascending=False).head(10)\n",
    "\n",
    "plt.figure(figsize=(10, 6))\n",
    "sns.barplot(x=top_qty.values, y=top_qty.index, palette='crest')\n",
    "plt.title(\"Top 10 Products by Quantity Sold\")\n",
    "plt.xlabel(\"Quantity Sold\")\n",
    "plt.ylabel(\"Product\")\n",
    "plt.tight_layout()\n",
    "plt.show()\n"
   ]
  },
  {
   "cell_type": "markdown",
   "metadata": {
    "id": "XUx81MsQQ6eu"
   },
   "source": [
    "Top Products by Quantity Sold:\n",
    "These are the most popular products by quantity.\n",
    "They should always be in stock and promoted well."
   ]
  },
  {
   "cell_type": "markdown",
   "metadata": {
    "id": "PQ6ZDXG8bYoI"
   },
   "source": [
    "Which products have the highest unit price and are they selling well?\n"
   ]
  },
  {
   "cell_type": "code",
   "execution_count": null,
   "metadata": {
    "id": "RJHe_CHAahzJ"
   },
   "outputs": [],
   "source": [
    "\n",
    "unit_price_stats = df.groupby('product_detail').agg({\n",
    "    'unit_price': 'mean',\n",
    "    'transaction_qty': 'sum',\n",
    "    'Revenue': 'sum'\n",
    "}).reset_index()\n",
    "\n",
    "unit_price_stats = unit_price_stats.sort_values(by='unit_price', ascending=False)\n",
    "\n",
    "\n",
    "plt.figure(figsize=(16, 8))\n",
    "sns.barplot(\n",
    "    data=unit_price_stats.head(15),\n",
    "    x='unit_price',\n",
    "    y='product_detail',\n",
    "    hue='transaction_qty',\n",
    "    palette='viridis'\n",
    ")\n",
    "\n",
    "plt.title(\"Top Products by Unit Price and Their Sales Quantity\", fontsize=14)\n",
    "plt.xlabel(\"Average Unit Price\")\n",
    "plt.ylabel(\"Product Detail\")\n",
    "plt.legend(title=\"Total Transaction Quantity\", loc='lower right')\n",
    "plt.tight_layout()\n",
    "plt.show()\n"
   ]
  },
  {
   "cell_type": "markdown",
   "metadata": {
    "id": "Vgy1w-XheB9_"
   },
   "source": [
    "\n"
   ]
  },
  {
   "cell_type": "markdown",
   "metadata": {
    "id": "xS4H9yviePhk"
   },
   "source": [
    "How is the performance of different stores over time?"
   ]
  },
  {
   "cell_type": "code",
   "execution_count": null,
   "metadata": {
    "id": "-83RyWDNah7O"
   },
   "outputs": [],
   "source": [
    "store_time_sales = df.groupby(['store_location', 'transaction_date'])['revenue'].sum().reset_index()\n"
   ]
  },
  {
   "cell_type": "code",
   "execution_count": null,
   "metadata": {
    "id": "_LZSYkisSWew"
   },
   "outputs": [],
   "source": [
    "#Revenue Trends by Store Over Time\n",
    "df['transaction_date'] = pd.to_datetime(df['transaction_date'])\n",
    "\n",
    "store_time_sales = df.groupby(['store_location', 'transaction_date'])['Revenue'].sum().reset_index()\n",
    "\n",
    "plt.figure(figsize=(16, 8))\n",
    "sns.lineplot(data=store_time_sales, x='transaction_date', y='Revenue', hue='store_location', marker='o')\n",
    "\n",
    "plt.title(\"Store Revenue Trends Over Time\", fontsize=16)\n",
    "plt.xlabel(\"Date\")\n",
    "plt.ylabel(\"Total Revenue\")\n",
    "plt.xticks(rotation=45)\n",
    "plt.legend(title=\"Store Location\", bbox_to_anchor=(1.05, 1), loc='upper left')\n",
    "plt.tight_layout()\n",
    "plt.grid(True)\n",
    "plt.show()\n"
   ]
  },
  {
   "cell_type": "code",
   "execution_count": null,
   "metadata": {
    "id": "lKbxMmgNScfK"
   },
   "outputs": [],
   "source": [
    "#Daily Revenue Intensity by Store\n",
    "heatmap_data = store_time_sales.pivot(index='transaction_date', columns='store_location', values='Revenue')\n",
    "\n",
    "plt.figure(figsize=(16, 10))\n",
    "sns.heatmap(heatmap_data.T, cmap=\"YlGnBu\", linewidths=0.5, linecolor='gray')\n",
    "\n",
    "plt.title(\"Daily Revenue Heatmap by Store Location\", fontsize=16)\n",
    "plt.xlabel(\"Transaction Date\")\n",
    "plt.ylabel(\"Store Location\")\n",
    "plt.tight_layout()\n",
    "plt.show()\n"
   ]
  },
  {
   "cell_type": "markdown",
   "metadata": {
    "id": "Xr4xQZUdestq"
   },
   "source": [
    "Which products are rarely sold (low sales volume)?"
   ]
  },
  {
   "cell_type": "code",
   "execution_count": 2,
   "metadata": {
    "id": "hROIdlGVecvG"
   },
   "outputs": [
    {
     "ename": "NameError",
     "evalue": "name 'df' is not defined",
     "output_type": "error",
     "traceback": [
      "\u001b[0;31m---------------------------------------------------------------------------\u001b[0m",
      "\u001b[0;31mNameError\u001b[0m                                 Traceback (most recent call last)",
      "Cell \u001b[0;32mIn[2], line 1\u001b[0m\n\u001b[0;32m----> 1\u001b[0m low_sales \u001b[38;5;241m=\u001b[39m \u001b[43mdf\u001b[49m\u001b[38;5;241m.\u001b[39mgroupby(\u001b[38;5;124m'\u001b[39m\u001b[38;5;124mproduct_detail\u001b[39m\u001b[38;5;124m'\u001b[39m)[\u001b[38;5;124m'\u001b[39m\u001b[38;5;124mtransaction_qty\u001b[39m\u001b[38;5;124m'\u001b[39m]\u001b[38;5;241m.\u001b[39msum()\u001b[38;5;241m.\u001b[39msort_values()\u001b[38;5;241m.\u001b[39mhead(\u001b[38;5;241m10\u001b[39m)\n\u001b[1;32m      2\u001b[0m low_sales \u001b[38;5;241m=\u001b[39m low_sales\u001b[38;5;241m.\u001b[39mreset_index()\n\u001b[1;32m      4\u001b[0m \u001b[38;5;66;03m#lowest-selling products\u001b[39;00m\n",
      "\u001b[0;31mNameError\u001b[0m: name 'df' is not defined"
     ]
    }
   ],
   "source": [
    "low_sales = df.groupby('product_detail')['transaction_qty'].sum().sort_values().head(10)\n",
    "low_sales = low_sales.reset_index()\n",
    "\n",
    "#lowest-selling products\n",
    "plt.figure(figsize=(12, 6))\n",
    "sns.barplot(data=low_sales, x='transaction_qty', y='product_detail', palette='Reds_r')\n",
    "\n",
    "plt.title(\"Bottom 10 Low-Selling Products (by Quantity)\", fontsize=14)\n",
    "plt.xlabel(\"Total Quantity Sold\")\n",
    "plt.ylabel(\"Product\")\n",
    "plt.tight_layout()\n",
    "plt.show()"
   ]
  },
  {
   "cell_type": "code",
   "execution_count": null,
   "metadata": {
    "id": "7d957f53"
   },
   "outputs": [],
   "source": [
    "!pip install dash plotly"
   ]
  },
  {
   "cell_type": "code",
   "execution_count": null,
   "metadata": {
    "id": "a55acd17"
   },
   "outputs": [],
   "source": [
    "import plotly.express as px\n",
    "from dash import Dash, dcc, html\n",
    "\n",
    "\n",
    "\n",
    "df['transaction_date'] = pd.to_datetime(df['transaction_date'])\n",
    "df['hour'] = pd.to_datetime(df['transaction_time']).dt.hour\n",
    "df['day_of_week'] = df['transaction_date'].dt.day_name()\n",
    "df['revenue'] = df['transaction_qty'] * df['unit_price']\n",
    "\n",
    "#Grouped Data\n",
    "revenue_by_category = df.groupby('product_category')['revenue'].sum().reset_index()\n",
    "top5_products = df.groupby('product_detail')['revenue'].sum().nlargest(5).reset_index()\n",
    "revenue_by_location = df.groupby('store_location')['revenue'].sum().reset_index()\n",
    "sales_by_hour = df.groupby('hour')['transaction_qty'].sum().reset_index()\n",
    "revenue_by_day = df.groupby('day_of_week')['revenue'].sum().reindex(\n",
    "    ['Monday', 'Tuesday', 'Wednesday', 'Thursday', 'Friday', 'Saturday', 'Sunday']\n",
    ").reset_index()\n",
    "\n",
    "\n",
    "app = Dash(__name__)\n",
    "app.title = \"Coffee Shop Sales Dashboard\"\n",
    "\n",
    "app.layout = html.Div([\n",
    "    html.H1(\"☕ Coffee Shop Sales Dashboard\", style={'textAlign': 'center'}),\n",
    "\n",
    "    dcc.Graph(\n",
    "        figure=px.bar(\n",
    "            revenue_by_category, x='revenue', y='product_category',\n",
    "            orientation='h', title=\"Revenue by Product Category\", color='product_category'\n",
    "        )\n",
    "    ),\n",
    "\n",
    "    dcc.Graph(\n",
    "        figure=px.bar(\n",
    "            top5_products, x='revenue', y='product_detail',\n",
    "            orientation='h', title=\"Top 5 Products by Revenue\", color='product_detail'\n",
    "        )\n",
    "    ),\n",
    "\n",
    "    dcc.Graph(\n",
    "        figure=px.bar(\n",
    "            revenue_by_location, x='revenue', y='store_location',\n",
    "            orientation='h', title=\"Revenue by Store Location\", color='store_location'\n",
    "        )\n",
    "    ),\n",
    "\n",
    "    dcc.Graph(\n",
    "        figure=px.line(\n",
    "            sales_by_hour, x='hour', y='transaction_qty',\n",
    "            title=\"Sales by Hour of Day\", markers=True\n",
    "        )\n",
    "    ),\n",
    "\n",
    "    dcc.Graph(\n",
    "        figure=px.bar(\n",
    "            revenue_by_day, x='day_of_week', y='revenue',\n",
    "            title=\"Revenue by Day of Week\", color='day_of_week'\n",
    "        )\n",
    "    )\n",
    "])\n",
    "\n",
    "if __name__ == '__main__':\n",
    "    app.run(debug=True)"
   ]
  },
  {
   "cell_type": "code",
   "execution_count": null,
   "metadata": {
    "id": "494a0dd2"
   },
   "outputs": [],
   "source": [
    "!pip install dash plotly"
   ]
  }
 ],
 "metadata": {
  "colab": {
   "private_outputs": true,
   "provenance": []
  },
  "kernelspec": {
   "display_name": "Python 3 (ipykernel)",
   "language": "python",
   "name": "python3"
  },
  "language_info": {
   "codemirror_mode": {
    "name": "ipython",
    "version": 3
   },
   "file_extension": ".py",
   "mimetype": "text/x-python",
   "name": "python",
   "nbconvert_exporter": "python",
   "pygments_lexer": "ipython3",
   "version": "3.12.7"
  }
 },
 "nbformat": 4,
 "nbformat_minor": 1
}
