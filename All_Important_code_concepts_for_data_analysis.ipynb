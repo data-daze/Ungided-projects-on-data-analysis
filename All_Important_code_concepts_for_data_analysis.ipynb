{
  "nbformat": 4,
  "nbformat_minor": 0,
  "metadata": {
    "colab": {
      "provenance": [],
      "toc_visible": true
    },
    "kernelspec": {
      "name": "python3",
      "display_name": "Python 3"
    },
    "language_info": {
      "name": "python"
    }
  },
  "cells": [
    {
      "cell_type": "code",
      "execution_count": null,
      "metadata": {
        "id": "5I3_kOGQ-a46"
      },
      "outputs": [],
      "source": [
        "netflix.columns"
      ]
    },
    {
      "cell_type": "code",
      "source": [
        "#the missing values\n",
        "data['director'].fillna('None', inplace=True)\n",
        "data['cast'].fillna('None', inplace=True)\n",
        "data['country'].fillna('None', inplace=True)"
      ],
      "metadata": {
        "id": "RmthvmWg-0Ur"
      },
      "execution_count": null,
      "outputs": []
    },
    {
      "cell_type": "code",
      "source": [
        "data.dropna(inplace=True)"
      ],
      "metadata": {
        "id": "sH4ArEUI-8w-"
      },
      "execution_count": null,
      "outputs": []
    },
    {
      "cell_type": "code",
      "source": [
        "#converting (date_added) to (datetime) format\n",
        "data['date_added'] = pd.to_datetime(data['date_added'], errors=\"coerce\")"
      ],
      "metadata": {
        "id": "nKuC5WuP_CIv"
      },
      "execution_count": null,
      "outputs": []
    },
    {
      "cell_type": "code",
      "source": [
        "#Creating some addintional features.\n",
        "data[\"day_added\"] = data[\"date_added\"].dt.day\n",
        "data[\"month_added\"] = data[\"date_added\"].dt.month_name()\n",
        "data[\"year_added\"] = data[\"date_added\"].dt.year"
      ],
      "metadata": {
        "id": "1IBcbRWL_HwR"
      },
      "execution_count": null,
      "outputs": []
    },
    {
      "cell_type": "code",
      "source": [
        "#The top ten countries producing television shows\n",
        "df[df['type']=='TV Show']['country'].value_counts().head(10).plot(kind='bar')"
      ],
      "metadata": {
        "id": "5f3nmxS2_vOE"
      },
      "execution_count": null,
      "outputs": []
    },
    {
      "cell_type": "code",
      "source": [
        "#type of column\n",
        "data['type'].value_counts().reset_index()"
      ],
      "metadata": {
        "id": "7x2kWECv_6q4"
      },
      "execution_count": null,
      "outputs": []
    },
    {
      "cell_type": "code",
      "source": [
        "#Directors Column\n",
        "data['director'].value_counts().reset_index()"
      ],
      "metadata": {
        "id": "n0fVXKlKAJaS"
      },
      "execution_count": null,
      "outputs": []
    },
    {
      "cell_type": "code",
      "source": [
        "#Conutry with a (Twinkl),Graph\n",
        "plt.figure(figsize=(12, 6))\n",
        "top_countries = data['country'].value_counts().head(20)\n",
        "sns.barplot(x=top_countries.values, y=top_countries.index, palette='Greens_d')\n",
        "plt.title('Top 20 Countries with Most Content')\n",
        "plt.xlabel('Number of Titles')\n",
        "plt.ylabel('Country')\n",
        "plt.show()"
      ],
      "metadata": {
        "id": "nXm_CA5BAY0v"
      },
      "execution_count": null,
      "outputs": []
    },
    {
      "cell_type": "code",
      "source": [
        "#Rating\n",
        "plt.figure(figsize=(12, 6))\n",
        "sns.countplot(x='rating',data=data, order=data['rating'].value_counts().index, palette= \"Greens_d\")\n",
        "plt.title('Best Rating Distribution')\n",
        "plt.xlabel('Rating')\n",
        "plt.ylabel('Count')\n",
        "plt.show()"
      ],
      "metadata": {
        "id": "70VmzZPtAsTk"
      },
      "execution_count": null,
      "outputs": []
    },
    {
      "cell_type": "code",
      "source": [
        "pd.crosstab(df.type ,df.loading_Year)"
      ],
      "metadata": {
        "id": "WbxZESj9Cfyr"
      },
      "execution_count": null,
      "outputs": []
    },
    {
      "cell_type": "code",
      "source": [
        "pd.crosstab(df.type ,df.loading_Year).plot(kind='bar')"
      ],
      "metadata": {
        "id": "S4GEiVS2C5t8"
      },
      "execution_count": null,
      "outputs": []
    },
    {
      "cell_type": "code",
      "source": [
        "df[\"date_added\"] = pd.to_datetime(df['date_added'])\n",
        "df['day_added'] = df['date_added'].dt.day\n",
        "df['year_added'] = df['date_added'].dt.year\n",
        "df['month_added']=df['date_added'].dt.month\n",
        "df['year_added'].astype(int);\n",
        "df['day_added'].astype(int);"
      ],
      "metadata": {
        "id": "yJYgJQV_EFzB"
      },
      "execution_count": null,
      "outputs": []
    },
    {
      "cell_type": "code",
      "source": [
        "# Fill null values in the 'Cabin' column with \"unknown\"\n",
        "df['director'] = df['director'].fillna(\"unknown\")\n",
        "\n",
        "# Fill null values in the 'cast' column with \"unknown\"\n",
        "df['cast'] = df['cast'].fillna(\"unknown\")\n",
        "\n",
        "# Fill null values in the 'country' column with \"unknown\"\n",
        "df['country'] = df['country'].fillna(\"unknown\")"
      ],
      "metadata": {
        "id": "lImt0xXbEimD"
      },
      "execution_count": null,
      "outputs": []
    },
    {
      "cell_type": "code",
      "source": [
        "# Sample DataFrame\n",
        "data = {\n",
        "    'fruit_day': [1, 2, 3, 4, 5, 2, 3, 5, 1, 4],\n",
        "    'veggies_day': [2, 3, 4, 4, 5, 1, 2, 4, 3, 5]\n",
        "}\n",
        "df = pd.DataFrame(data)\n",
        "\n",
        "# Group by fruit_day and calculate the mean of veggies_day\n",
        "grouped_data = df.groupby('fruit_day').mean()\n",
        "\n",
        "# Bar Plot\n",
        "grouped_data['veggies_day'].plot(kind='bar', color='green')\n",
        "plt.xlabel('Fruit per Day')\n",
        "plt.ylabel('Average Vegetables per Day')\n",
        "plt.title('Average Vegetable Consumption by Fruit Consumption')\n",
        "plt.xticks(rotation=0)\n",
        "plt.show()\n"
      ],
      "metadata": {
        "id": "i7y3dwGOi-a6"
      },
      "execution_count": null,
      "outputs": []
    },
    {
      "cell_type": "code",
      "source": [
        "# Sample DataFrame\n",
        "data = {\n",
        "    'fruit_day': [1, 2, 3, 4, 5, 2, 3, 5, 1, 4],\n",
        "    'veggies_day': [2, 3, 4, 4, 5, 1, 2, 4, 3, 5]\n",
        "}\n",
        "df = pd.DataFrame(data)\n",
        "\n",
        "# Scatter Plot\n",
        "plt.scatter(df['fruit_day'], df['veggies_day'], color='green')\n",
        "plt.xlabel('Fruit per Day')\n",
        "plt.ylabel('Vegetables per Day')\n",
        "plt.title('Comparison of Fruit and Vegetable Consumption per Day')\n",
        "plt.grid(True)\n",
        "plt.show()\n"
      ],
      "metadata": {
        "id": "uTXZixpMjC5y"
      },
      "execution_count": null,
      "outputs": []
    },
    {
      "cell_type": "code",
      "source": [
        "# Sample DataFrame\n",
        "data = {\n",
        "    'fruit_day': [1, 2, 3, 4, 5, 2, 3, 5, 1, 4],\n",
        "    'veggies_day': [2, 3, 4, 4, 5, 1, 2, 4, 3, 5]\n",
        "}\n",
        "df = pd.DataFrame(data)\n",
        "\n",
        "# Joint Plot\n",
        "sns.jointplot(x='fruit_day', y='veggies_day', data=df, kind='scatter', color='green')\n",
        "plt.suptitle('Joint Plot of Fruit and Vegetable Consumption per Day', y=1.02)\n",
        "plt.show()\n"
      ],
      "metadata": {
        "id": "BejbbGgPjF8A"
      },
      "execution_count": null,
      "outputs": []
    }
  ]
}