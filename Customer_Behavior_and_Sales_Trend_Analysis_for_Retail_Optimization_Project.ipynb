{
 "cells": [
  {
   "cell_type": "code",
   "execution_count": null,
   "metadata": {
    "id": "SsA1iblA1MAC"
   },
   "outputs": [],
   "source": [
    "import numpy as np\n",
    "import pandas as pd\n",
    "import matplotlib.pyplot as plt\n",
    "import seaborn as sns\n",
    "import warnings\n",
    "warnings.filterwarnings(action=\"ignore\")"
   ]
  },
  {
   "cell_type": "code",
   "execution_count": null,
   "metadata": {
    "id": "gdE93s3WUd4c"
   },
   "outputs": [],
   "source": [
    "df=pd.read_csv(\"Sales Dataset.csv\")\n",
    "df.head(4)"
   ]
  },
  {
   "cell_type": "code",
   "execution_count": null,
   "metadata": {
    "id": "Ja_wxlaaUyop"
   },
   "outputs": [],
   "source": [
    "df.shape"
   ]
  },
  {
   "cell_type": "code",
   "execution_count": null,
   "metadata": {
    "id": "8YZm3tI8XlSL"
   },
   "outputs": [],
   "source": [
    "df.isnull().sum().sum()"
   ]
  },
  {
   "cell_type": "code",
   "execution_count": null,
   "metadata": {
    "id": "PyYc_fJWXtRf"
   },
   "outputs": [],
   "source": [
    "df.duplicated().sum()"
   ]
  },
  {
   "cell_type": "markdown",
   "metadata": {
    "id": "pHEl8uoqZT6u"
   },
   "source": [
    "Which age group and gender combination contributes most to sales?\n"
   ]
  },
  {
   "cell_type": "code",
   "execution_count": null,
   "metadata": {
    "id": "oz400oeNYvyi"
   },
   "outputs": [],
   "source": [
    "grouped_sales = df.groupby(['Age', 'Gender'])['Total Amount'].sum().reset_index()\n",
    "max_sales_row = grouped_sales.loc[grouped_sales['Total Amount'].idxmax()]\n",
    "print(\"Age Group and Gender combination with highest sales: \",\"\\n\")\n",
    "print(max_sales_row)"
   ]
  },
  {
   "cell_type": "code",
   "execution_count": null,
   "metadata": {
    "id": "RyUI-UEpdBas"
   },
   "outputs": [],
   "source": [
    "sns.set_style(\"whitegrid\")\n",
    "sns.set_palette(\"Paired\")\n",
    "\n",
    "\n",
    "plt.figure(figsize=(12,6))\n",
    "sns.barplot(data=grouped_sales, x='Age', y='Total Amount', hue='Gender')\n",
    "\n",
    "plt.title('Total Sales by Age and Gender', fontsize=16)\n",
    "plt.xlabel('Age', fontsize=14)\n",
    "plt.ylabel('Total Amount', fontsize=14)\n",
    "plt.xticks(rotation=45)\n",
    "plt.tight_layout()\n",
    "plt.show()\n"
   ]
  },
  {
   "cell_type": "markdown",
   "metadata": {
    "id": "wn5u_kRIHDWK"
   },
   "source": [
    "Show the same result using animation_frame"
   ]
  },
  {
   "cell_type": "code",
   "execution_count": null,
   "metadata": {
    "id": "SyYzFNYMfaTl"
   },
   "outputs": [],
   "source": [
    "import plotly.express as px\n",
    "\n",
    "grouped_sales_time = df.groupby(['Date', 'Age', 'Gender'])['Total Amount'].sum().reset_index()\n",
    "\n",
    "fig = px.bar(\n",
    "    grouped_sales_time,\n",
    "    x='Age',\n",
    "    y='Total Amount',\n",
    "    color='Gender',\n",
    "    animation_frame='Date',\n",
    "    barmode='group',\n",
    "    title='Sales by Age and Gender Over Time',\n",
    "    color_discrete_sequence=px.colors.qualitative.Set2\n",
    ")\n",
    "\n",
    "fig.update_layout(\n",
    "    xaxis_title='Age',\n",
    "    yaxis_title='Total Amount',\n",
    "    xaxis_tickangle=-45,\n",
    "    template='plotly_white'\n",
    ")\n",
    "\n",
    "fig.show()\n"
   ]
  },
  {
   "cell_type": "markdown",
   "metadata": {
    "id": "LFAFPo2UIcg8"
   },
   "source": [
    "By using 2d plot"
   ]
  },
  {
   "cell_type": "code",
   "execution_count": null,
   "metadata": {
    "id": "FiZ5_TJCctxI"
   },
   "outputs": [],
   "source": [
    "fig = px.bar(\n",
    "    grouped_sales,\n",
    "    x='Age',\n",
    "    y='Total Amount',\n",
    "    color='Gender',\n",
    "    barmode='group',\n",
    "    title='Total Sales by Age and Gender',\n",
    "    color_discrete_sequence=px.colors.qualitative.Set2\n",
    ")\n",
    "\n",
    "fig.update_layout(\n",
    "    xaxis_title='Age',\n",
    "    yaxis_title='Total Amount',\n",
    "    xaxis_tickangle=-45,\n",
    "    template='plotly_white'\n",
    ")\n",
    "\n",
    "fig.show()\n"
   ]
  },
  {
   "cell_type": "markdown",
   "metadata": {
    "id": "t9Hb56FUIu56"
   },
   "source": [
    "Using 3d plot"
   ]
  },
  {
   "cell_type": "code",
   "execution_count": null,
   "metadata": {
    "id": "LKRVhiH7iB4G"
   },
   "outputs": [],
   "source": [
    "\n",
    "# Group data by Age, Gender and sum Total Amount\n",
    "grouped_sales = df.groupby(['Age', 'Gender'])['Total Amount'].sum().reset_index()\n",
    "\n",
    "\n",
    "fig = px.scatter_3d(\n",
    "    grouped_sales,\n",
    "    x='Age',\n",
    "    y='Gender',\n",
    "    z='Total Amount',\n",
    "    color='Gender',\n",
    "    size='Total Amount', \n",
    "    title='3D Scatter Plot of Sales by Age and Gender',\n",
    "    labels={'Age': 'Age Group', 'Gender': 'Gender', 'Total Amount': 'Total Sales'}\n",
    ")\n",
    "\n",
    "fig.update_layout(scene=dict(\n",
    "    xaxis_title='Age Group',\n",
    "    yaxis_title='Gender',\n",
    "    zaxis_title='Total Sales'\n",
    "))\n",
    "\n",
    "fig.show()\n"
   ]
  },
  {
   "cell_type": "markdown",
   "metadata": {
    "id": "1Bn7ZJqXGg5f"
   },
   "source": [
    "\n",
    "\n",
    "What are the top 3 product categories by revenue and quantity?\n",
    "\n"
   ]
  },
  {
   "cell_type": "code",
   "execution_count": null,
   "metadata": {
    "id": "GZnlsf6QW9AY"
   },
   "outputs": [],
   "source": [
    "category_summary = df.groupby('Product Category')[['Total Amount', 'Quantity']].sum().reset_index()\n",
    "top_revenue = category_summary.sort_values(by='Total Amount', ascending=False).head(3)\n",
    "top_quantity = category_summary.sort_values(by='Quantity', ascending=False).head(3)\n",
    "\n",
    "light_colors = ['#AEC6CF', '#FFB347', '#BFD8B8']\n",
    "\n",
    "#Top 3 by Revenue \n",
    "fig1 = px.bar(top_revenue, x='Product Category', y='Total Amount',\n",
    "              title='Top 3 Product Categories by Revenue',\n",
    "              color='Product Category',\n",
    "              text='Total Amount',\n",
    "              color_discrete_sequence=light_colors,\n",
    "              width=680, height=370)\n",
    "fig1.update_traces(texttemplate='%{text:.2s}', textposition='auto')\n",
    "fig1.update_layout(xaxis_title='Product Category', yaxis_title='Total Revenue',margin=dict(t=100))\n",
    "\n",
    "#Top 3 by Quantity \n",
    "fig2 = px.bar(top_quantity, x='Product Category', y='Quantity',\n",
    "              title='Top 3 Product Categories by Quantity',\n",
    "              color='Product Category',\n",
    "              text='Quantity',\n",
    "              color_discrete_sequence=light_colors,\n",
    "              width=680, height=370)\n",
    "\n",
    "fig2.update_traces(texttemplate='%{text}', textposition='auto')\n",
    "fig2.update_layout(xaxis_title='Product Category', yaxis_title='Total Quantity',margin=dict(t=100) )\n",
    "\n",
    "\n",
    "\n",
    "fig1.show()\n",
    "fig2.show()\n"
   ]
  },
  {
   "cell_type": "markdown",
   "metadata": {
    "id": "0p0pl9EuJhFf"
   },
   "source": [
    "On which months do sales peak or drop?"
   ]
  },
  {
   "cell_type": "code",
   "execution_count": null,
   "metadata": {
    "id": "UiSnzXXuKPGi"
   },
   "outputs": [],
   "source": [
    "df['Date'] = pd.to_datetime(df['Date'])\n",
    "df['Date']"
   ]
  },
  {
   "cell_type": "code",
   "execution_count": null,
   "metadata": {
    "id": "N0465x4XKXfp"
   },
   "outputs": [],
   "source": [
    "\n",
    "df['Month'] = df['Date'].dt.month_name()\n",
    "df['Month']"
   ]
  },
  {
   "cell_type": "code",
   "execution_count": null,
   "metadata": {
    "id": "GGVvayg2YTf-"
   },
   "outputs": [],
   "source": [
    "\n",
    "month_order = ['January', 'February', 'March', 'April', 'May', 'June',\n",
    "               'July', 'August', 'September', 'October', 'November', 'December']\n",
    "\n",
    "monthly_sales = (\n",
    "    df\n",
    "    .groupby('Month', sort=False)['Total Amount']\n",
    "    .sum()\n",
    "    .reindex(month_order)\n",
    "    .reset_index()\n",
    ")\n",
    "\n",
    "fig = px.bar(\n",
    "    monthly_sales,\n",
    "    x='Month',\n",
    "    y='Total Amount',\n",
    "    title='Monthly Sales Trend',\n",
    "    color='Total Amount',\n",
    "    color_continuous_scale='Sunset',\n",
    "    text='Total Amount',\n",
    "    width=800,\n",
    "    height=400\n",
    ")\n",
    "\n",
    "fig.update_traces(\n",
    "    texttemplate='%{text:,.0f}',\n",
    "    textposition='auto'\n",
    ")\n",
    "fig.update_layout(\n",
    "    xaxis_title='Month',\n",
    "    yaxis_title='Total Sales',\n",
    "    xaxis=dict(\n",
    "        categoryorder='array',\n",
    "        categoryarray=month_order\n",
    "    ),\n",
    "    uniformtext_minsize=8,\n",
    "    uniformtext_mode='hide',\n",
    "    margin=dict(t=100)\n",
    ")\n",
    "\n",
    "fig.show()\n"
   ]
  },
  {
   "cell_type": "markdown",
   "metadata": {
    "id": "j8FZPEMQNPKV"
   },
   "source": [
    "Do men or women spend more on average?"
   ]
  },
  {
   "cell_type": "code",
   "execution_count": null,
   "metadata": {
    "id": "AbmwZWK-ZFh1"
   },
   "outputs": [],
   "source": [
    "\n",
    "avg_spending = df.groupby('Gender')['Total Amount'].mean().reset_index()\n",
    "\n",
    "pastel_colors = ['#B2DFDB', '#FFD54F']\n",
    "\n",
    "fig = px.bar(\n",
    "    avg_spending,\n",
    "    x='Gender',\n",
    "    y='Total Amount',\n",
    "    title='Average Spending by Gender',\n",
    "    color='Gender',\n",
    "    color_discrete_sequence=pastel_colors,\n",
    "    text='Total Amount',\n",
    "    width=600,\n",
    "    height=400\n",
    ")\n",
    "\n",
    "fig.update_traces(\n",
    "    texttemplate='$%{text:.2f}',\n",
    "    textposition='auto'\n",
    ")\n",
    "\n",
    "\n",
    "fig.update_layout(\n",
    "    xaxis_title='Gender',\n",
    "    yaxis_title='Average Spending',\n",
    "    plot_bgcolor='white',\n",
    "    yaxis=dict(tickformat='$.2f'),\n",
    "    margin=dict(t=100)\n",
    ")\n",
    "\n",
    "fig.show()\n"
   ]
  },
  {
   "cell_type": "markdown",
   "metadata": {
    "id": "JdTcethMOebi"
   },
   "source": [
    "\n",
    "\n",
    "Which age group buys the most quantity per transaction?\n"
   ]
  },
  {
   "cell_type": "code",
   "execution_count": null,
   "metadata": {
    "id": "ic0GMbOgaQNO"
   },
   "outputs": [],
   "source": [
    "\n",
    "avg_quantity = df.groupby('Age')['Quantity'].mean().reset_index()\n",
    "pastel_colors = px.colors.qualitative.Pastel\n",
    "\n",
    "fig = px.bar(\n",
    "    avg_quantity,\n",
    "    x='Age',\n",
    "    y='Quantity',\n",
    "    title='Average Quantity Bought per Transaction by Age Group',\n",
    "    color='Age',\n",
    "    color_discrete_sequence=pastel_colors,\n",
    "    text='Quantity',\n",
    "    width=1400,\n",
    "    height=400\n",
    ")\n",
    "\n",
    "fig.update_traces(\n",
    "    texttemplate='%{text:.2f}',\n",
    "    textposition='auto'\n",
    ")\n",
    "\n",
    "fig.update_layout(\n",
    "    xaxis_title='Age Group',\n",
    "    yaxis_title='Average Quantity',\n",
    "    plot_bgcolor='white',\n",
    "    margin=dict(t=100)\n",
    ")\n",
    "\n",
    "fig.show()\n"
   ]
  },
  {
   "cell_type": "markdown",
   "metadata": {
    "id": "gcQd1FtQOwlX"
   },
   "source": [
    "\n",
    "\n",
    "Is there a relationship between age and spending behavior?\n"
   ]
  },
  {
   "cell_type": "code",
   "execution_count": null,
   "metadata": {
    "id": "UhLC64D5QHNh"
   },
   "outputs": [],
   "source": [
    "from google.colab import files\n",
    "fig = px.scatter(df, x='Age', y='Total Amount',\n",
    "                 title='Relationship Between Age and Spending Behavior',\n",
    "                 trendline='ols',\n",
    "                 color_discrete_sequence=['#89CFF0'],\n",
    "                 width=800, height=400)\n",
    "\n",
    "for trace in fig.data:\n",
    "    if trace.mode == 'lines':  \n",
    "        trace.line.color = 'blue'\n",
    "        trace.line.width = 3  \n",
    "\n",
    "fig.update_layout(xaxis_title='Age', yaxis_title='Total Spending',\n",
    "                  plot_bgcolor='white')\n",
    "\n",
    "fig.show()\n",
    "\n"
   ]
  }
 ],
 "metadata": {
  "colab": {
   "private_outputs": true,
   "provenance": []
  },
  "kernelspec": {
   "display_name": "Python 3 (ipykernel)",
   "language": "python",
   "name": "python3"
  },
  "language_info": {
   "codemirror_mode": {
    "name": "ipython",
    "version": 3
   },
   "file_extension": ".py",
   "mimetype": "text/x-python",
   "name": "python",
   "nbconvert_exporter": "python",
   "pygments_lexer": "ipython3",
   "version": "3.12.7"
  }
 },
 "nbformat": 4,
 "nbformat_minor": 1
}
